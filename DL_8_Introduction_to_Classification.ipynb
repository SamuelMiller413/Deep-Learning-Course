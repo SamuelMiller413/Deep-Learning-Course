{
  "cells": [
    {
      "cell_type": "markdown",
      "metadata": {
        "id": "view-in-github",
        "colab_type": "text"
      },
      "source": [
        "<a href=\"https://colab.research.google.com/github/SamuelMiller413/Deep-Learning-Course/blob/main/DL_8_Introduction_to_Classification.ipynb\" target=\"_parent\"><img src=\"https://colab.research.google.com/assets/colab-badge.svg\" alt=\"Open In Colab\"/></a>"
      ]
    },
    {
      "cell_type": "markdown",
      "source": [
        "# Pre Processing"
      ],
      "metadata": {
        "id": "jYpyZdwKMSPZ"
      }
    },
    {
      "cell_type": "code",
      "execution_count": null,
      "metadata": {
        "id": "EBDfgfJY6X2F",
        "colab": {
          "base_uri": "https://localhost:8080/"
        },
        "outputId": "a70e9f72-a844-4bc8-9579-977c272bb7d4"
      },
      "outputs": [
        {
          "output_type": "stream",
          "name": "stdout",
          "text": [
            "\u001b[?25l\r\u001b[K     |▉                               | 10 kB 29.7 MB/s eta 0:00:01\r\u001b[K     |█▋                              | 20 kB 6.9 MB/s eta 0:00:01\r\u001b[K     |██▍                             | 30 kB 9.9 MB/s eta 0:00:01\r\u001b[K     |███▏                            | 40 kB 4.1 MB/s eta 0:00:01\r\u001b[K     |████                            | 51 kB 4.2 MB/s eta 0:00:01\r\u001b[K     |████▊                           | 61 kB 5.0 MB/s eta 0:00:01\r\u001b[K     |█████▌                          | 71 kB 5.4 MB/s eta 0:00:01\r\u001b[K     |██████▎                         | 81 kB 5.4 MB/s eta 0:00:01\r\u001b[K     |███████                         | 92 kB 6.0 MB/s eta 0:00:01\r\u001b[K     |███████▉                        | 102 kB 5.0 MB/s eta 0:00:01\r\u001b[K     |████████▋                       | 112 kB 5.0 MB/s eta 0:00:01\r\u001b[K     |█████████▍                      | 122 kB 5.0 MB/s eta 0:00:01\r\u001b[K     |██████████▏                     | 133 kB 5.0 MB/s eta 0:00:01\r\u001b[K     |███████████                     | 143 kB 5.0 MB/s eta 0:00:01\r\u001b[K     |███████████▊                    | 153 kB 5.0 MB/s eta 0:00:01\r\u001b[K     |████████████▌                   | 163 kB 5.0 MB/s eta 0:00:01\r\u001b[K     |█████████████▎                  | 174 kB 5.0 MB/s eta 0:00:01\r\u001b[K     |██████████████                  | 184 kB 5.0 MB/s eta 0:00:01\r\u001b[K     |██████████████▉                 | 194 kB 5.0 MB/s eta 0:00:01\r\u001b[K     |███████████████▋                | 204 kB 5.0 MB/s eta 0:00:01\r\u001b[K     |████████████████▍               | 215 kB 5.0 MB/s eta 0:00:01\r\u001b[K     |█████████████████▏              | 225 kB 5.0 MB/s eta 0:00:01\r\u001b[K     |██████████████████              | 235 kB 5.0 MB/s eta 0:00:01\r\u001b[K     |██████████████████▊             | 245 kB 5.0 MB/s eta 0:00:01\r\u001b[K     |███████████████████▌            | 256 kB 5.0 MB/s eta 0:00:01\r\u001b[K     |████████████████████▎           | 266 kB 5.0 MB/s eta 0:00:01\r\u001b[K     |█████████████████████           | 276 kB 5.0 MB/s eta 0:00:01\r\u001b[K     |█████████████████████▉          | 286 kB 5.0 MB/s eta 0:00:01\r\u001b[K     |██████████████████████▋         | 296 kB 5.0 MB/s eta 0:00:01\r\u001b[K     |███████████████████████▍        | 307 kB 5.0 MB/s eta 0:00:01\r\u001b[K     |████████████████████████▏       | 317 kB 5.0 MB/s eta 0:00:01\r\u001b[K     |█████████████████████████       | 327 kB 5.0 MB/s eta 0:00:01\r\u001b[K     |█████████████████████████▊      | 337 kB 5.0 MB/s eta 0:00:01\r\u001b[K     |██████████████████████████▌     | 348 kB 5.0 MB/s eta 0:00:01\r\u001b[K     |███████████████████████████▍    | 358 kB 5.0 MB/s eta 0:00:01\r\u001b[K     |████████████████████████████▏   | 368 kB 5.0 MB/s eta 0:00:01\r\u001b[K     |█████████████████████████████   | 378 kB 5.0 MB/s eta 0:00:01\r\u001b[K     |█████████████████████████████▊  | 389 kB 5.0 MB/s eta 0:00:01\r\u001b[K     |██████████████████████████████▌ | 399 kB 5.0 MB/s eta 0:00:01\r\u001b[K     |███████████████████████████████▎| 409 kB 5.0 MB/s eta 0:00:01\r\u001b[K     |████████████████████████████████| 419 kB 5.0 MB/s \n",
            "\u001b[?25h"
          ]
        }
      ],
      "source": [
        "!pip install torchmetrics attrdict -q"
      ]
    },
    {
      "cell_type": "code",
      "execution_count": null,
      "metadata": {
        "id": "_6FyQ11IDHTG"
      },
      "outputs": [],
      "source": [
        "import torch\n",
        "from torch import nn\n",
        "import torch.nn.functional as F\n",
        "import torchmetrics\n",
        "from torchvision.datasets import MNIST\n",
        "from torch.utils.data import Dataset, DataLoader\n",
        "import matplotlib.pyplot as plt\n",
        "from PIL import Image\n",
        "import pandas as pd\n",
        "import numpy as np\n",
        "from IPython.display import display\n",
        "from attrdict import AttrDict\n",
        "from multiprocessing import cpu_count\n"
      ]
    },
    {
      "cell_type": "code",
      "execution_count": null,
      "metadata": {
        "colab": {
          "base_uri": "https://localhost:8080/",
          "height": 41
        },
        "id": "aVnQSeXZahJI",
        "outputId": "dbc38559-3f3a-4fa5-f981-aaf7663d9259"
      },
      "outputs": [
        {
          "output_type": "execute_result",
          "data": {
            "text/plain": [
              "'cuda'"
            ],
            "application/vnd.google.colaboratory.intrinsic+json": {
              "type": "string"
            }
          },
          "metadata": {},
          "execution_count": 3
        }
      ],
      "source": [
        "# Maybe delete this. Not sure if I want to get into GPUs yet, that should be a separate lesson.\n",
        "device = 'cuda' if torch.cuda.is_available() else 'cpu'\n",
        "device"
      ]
    },
    {
      "cell_type": "code",
      "execution_count": null,
      "metadata": {
        "id": "WvKaTo03-UQ-"
      },
      "outputs": [],
      "source": [
        "# Load the train and validation data\n",
        "mnist_train = pd.read_csv('sample_data/mnist_train_small.csv', header=None, dtype=\"float32\")\n",
        "mnist_valid = pd.read_csv('sample_data/mnist_test.csv', header=None, dtype=\"float32\")"
      ]
    },
    {
      "cell_type": "code",
      "execution_count": null,
      "metadata": {
        "colab": {
          "base_uri": "https://localhost:8080/",
          "height": 254
        },
        "id": "zGuzgVZD9Zg9",
        "outputId": "1d89afaf-07ed-436c-8053-d9fbe6453b41"
      },
      "outputs": [
        {
          "output_type": "stream",
          "name": "stdout",
          "text": [
            "(20000, 785)\n"
          ]
        },
        {
          "output_type": "execute_result",
          "data": {
            "text/plain": [
              "   0    1    2    3    4    5    6    7    8    9    ...  775  776  777  778  \\\n",
              "0  6.0  0.0  0.0  0.0  0.0  0.0  0.0  0.0  0.0  0.0  ...  0.0  0.0  0.0  0.0   \n",
              "1  5.0  0.0  0.0  0.0  0.0  0.0  0.0  0.0  0.0  0.0  ...  0.0  0.0  0.0  0.0   \n",
              "2  7.0  0.0  0.0  0.0  0.0  0.0  0.0  0.0  0.0  0.0  ...  0.0  0.0  0.0  0.0   \n",
              "3  9.0  0.0  0.0  0.0  0.0  0.0  0.0  0.0  0.0  0.0  ...  0.0  0.0  0.0  0.0   \n",
              "4  5.0  0.0  0.0  0.0  0.0  0.0  0.0  0.0  0.0  0.0  ...  0.0  0.0  0.0  0.0   \n",
              "\n",
              "   779  780  781  782  783  784  \n",
              "0  0.0  0.0  0.0  0.0  0.0  0.0  \n",
              "1  0.0  0.0  0.0  0.0  0.0  0.0  \n",
              "2  0.0  0.0  0.0  0.0  0.0  0.0  \n",
              "3  0.0  0.0  0.0  0.0  0.0  0.0  \n",
              "4  0.0  0.0  0.0  0.0  0.0  0.0  \n",
              "\n",
              "[5 rows x 785 columns]"
            ],
            "text/html": [
              "\n",
              "  <div id=\"df-c4ca1a82-5767-4e1f-87d8-8ab93801a69e\">\n",
              "    <div class=\"colab-df-container\">\n",
              "      <div>\n",
              "<style scoped>\n",
              "    .dataframe tbody tr th:only-of-type {\n",
              "        vertical-align: middle;\n",
              "    }\n",
              "\n",
              "    .dataframe tbody tr th {\n",
              "        vertical-align: top;\n",
              "    }\n",
              "\n",
              "    .dataframe thead th {\n",
              "        text-align: right;\n",
              "    }\n",
              "</style>\n",
              "<table border=\"1\" class=\"dataframe\">\n",
              "  <thead>\n",
              "    <tr style=\"text-align: right;\">\n",
              "      <th></th>\n",
              "      <th>0</th>\n",
              "      <th>1</th>\n",
              "      <th>2</th>\n",
              "      <th>3</th>\n",
              "      <th>4</th>\n",
              "      <th>5</th>\n",
              "      <th>6</th>\n",
              "      <th>7</th>\n",
              "      <th>8</th>\n",
              "      <th>9</th>\n",
              "      <th>...</th>\n",
              "      <th>775</th>\n",
              "      <th>776</th>\n",
              "      <th>777</th>\n",
              "      <th>778</th>\n",
              "      <th>779</th>\n",
              "      <th>780</th>\n",
              "      <th>781</th>\n",
              "      <th>782</th>\n",
              "      <th>783</th>\n",
              "      <th>784</th>\n",
              "    </tr>\n",
              "  </thead>\n",
              "  <tbody>\n",
              "    <tr>\n",
              "      <th>0</th>\n",
              "      <td>6.0</td>\n",
              "      <td>0.0</td>\n",
              "      <td>0.0</td>\n",
              "      <td>0.0</td>\n",
              "      <td>0.0</td>\n",
              "      <td>0.0</td>\n",
              "      <td>0.0</td>\n",
              "      <td>0.0</td>\n",
              "      <td>0.0</td>\n",
              "      <td>0.0</td>\n",
              "      <td>...</td>\n",
              "      <td>0.0</td>\n",
              "      <td>0.0</td>\n",
              "      <td>0.0</td>\n",
              "      <td>0.0</td>\n",
              "      <td>0.0</td>\n",
              "      <td>0.0</td>\n",
              "      <td>0.0</td>\n",
              "      <td>0.0</td>\n",
              "      <td>0.0</td>\n",
              "      <td>0.0</td>\n",
              "    </tr>\n",
              "    <tr>\n",
              "      <th>1</th>\n",
              "      <td>5.0</td>\n",
              "      <td>0.0</td>\n",
              "      <td>0.0</td>\n",
              "      <td>0.0</td>\n",
              "      <td>0.0</td>\n",
              "      <td>0.0</td>\n",
              "      <td>0.0</td>\n",
              "      <td>0.0</td>\n",
              "      <td>0.0</td>\n",
              "      <td>0.0</td>\n",
              "      <td>...</td>\n",
              "      <td>0.0</td>\n",
              "      <td>0.0</td>\n",
              "      <td>0.0</td>\n",
              "      <td>0.0</td>\n",
              "      <td>0.0</td>\n",
              "      <td>0.0</td>\n",
              "      <td>0.0</td>\n",
              "      <td>0.0</td>\n",
              "      <td>0.0</td>\n",
              "      <td>0.0</td>\n",
              "    </tr>\n",
              "    <tr>\n",
              "      <th>2</th>\n",
              "      <td>7.0</td>\n",
              "      <td>0.0</td>\n",
              "      <td>0.0</td>\n",
              "      <td>0.0</td>\n",
              "      <td>0.0</td>\n",
              "      <td>0.0</td>\n",
              "      <td>0.0</td>\n",
              "      <td>0.0</td>\n",
              "      <td>0.0</td>\n",
              "      <td>0.0</td>\n",
              "      <td>...</td>\n",
              "      <td>0.0</td>\n",
              "      <td>0.0</td>\n",
              "      <td>0.0</td>\n",
              "      <td>0.0</td>\n",
              "      <td>0.0</td>\n",
              "      <td>0.0</td>\n",
              "      <td>0.0</td>\n",
              "      <td>0.0</td>\n",
              "      <td>0.0</td>\n",
              "      <td>0.0</td>\n",
              "    </tr>\n",
              "    <tr>\n",
              "      <th>3</th>\n",
              "      <td>9.0</td>\n",
              "      <td>0.0</td>\n",
              "      <td>0.0</td>\n",
              "      <td>0.0</td>\n",
              "      <td>0.0</td>\n",
              "      <td>0.0</td>\n",
              "      <td>0.0</td>\n",
              "      <td>0.0</td>\n",
              "      <td>0.0</td>\n",
              "      <td>0.0</td>\n",
              "      <td>...</td>\n",
              "      <td>0.0</td>\n",
              "      <td>0.0</td>\n",
              "      <td>0.0</td>\n",
              "      <td>0.0</td>\n",
              "      <td>0.0</td>\n",
              "      <td>0.0</td>\n",
              "      <td>0.0</td>\n",
              "      <td>0.0</td>\n",
              "      <td>0.0</td>\n",
              "      <td>0.0</td>\n",
              "    </tr>\n",
              "    <tr>\n",
              "      <th>4</th>\n",
              "      <td>5.0</td>\n",
              "      <td>0.0</td>\n",
              "      <td>0.0</td>\n",
              "      <td>0.0</td>\n",
              "      <td>0.0</td>\n",
              "      <td>0.0</td>\n",
              "      <td>0.0</td>\n",
              "      <td>0.0</td>\n",
              "      <td>0.0</td>\n",
              "      <td>0.0</td>\n",
              "      <td>...</td>\n",
              "      <td>0.0</td>\n",
              "      <td>0.0</td>\n",
              "      <td>0.0</td>\n",
              "      <td>0.0</td>\n",
              "      <td>0.0</td>\n",
              "      <td>0.0</td>\n",
              "      <td>0.0</td>\n",
              "      <td>0.0</td>\n",
              "      <td>0.0</td>\n",
              "      <td>0.0</td>\n",
              "    </tr>\n",
              "  </tbody>\n",
              "</table>\n",
              "<p>5 rows × 785 columns</p>\n",
              "</div>\n",
              "      <button class=\"colab-df-convert\" onclick=\"convertToInteractive('df-c4ca1a82-5767-4e1f-87d8-8ab93801a69e')\"\n",
              "              title=\"Convert this dataframe to an interactive table.\"\n",
              "              style=\"display:none;\">\n",
              "        \n",
              "  <svg xmlns=\"http://www.w3.org/2000/svg\" height=\"24px\"viewBox=\"0 0 24 24\"\n",
              "       width=\"24px\">\n",
              "    <path d=\"M0 0h24v24H0V0z\" fill=\"none\"/>\n",
              "    <path d=\"M18.56 5.44l.94 2.06.94-2.06 2.06-.94-2.06-.94-.94-2.06-.94 2.06-2.06.94zm-11 1L8.5 8.5l.94-2.06 2.06-.94-2.06-.94L8.5 2.5l-.94 2.06-2.06.94zm10 10l.94 2.06.94-2.06 2.06-.94-2.06-.94-.94-2.06-.94 2.06-2.06.94z\"/><path d=\"M17.41 7.96l-1.37-1.37c-.4-.4-.92-.59-1.43-.59-.52 0-1.04.2-1.43.59L10.3 9.45l-7.72 7.72c-.78.78-.78 2.05 0 2.83L4 21.41c.39.39.9.59 1.41.59.51 0 1.02-.2 1.41-.59l7.78-7.78 2.81-2.81c.8-.78.8-2.07 0-2.86zM5.41 20L4 18.59l7.72-7.72 1.47 1.35L5.41 20z\"/>\n",
              "  </svg>\n",
              "      </button>\n",
              "      \n",
              "  <style>\n",
              "    .colab-df-container {\n",
              "      display:flex;\n",
              "      flex-wrap:wrap;\n",
              "      gap: 12px;\n",
              "    }\n",
              "\n",
              "    .colab-df-convert {\n",
              "      background-color: #E8F0FE;\n",
              "      border: none;\n",
              "      border-radius: 50%;\n",
              "      cursor: pointer;\n",
              "      display: none;\n",
              "      fill: #1967D2;\n",
              "      height: 32px;\n",
              "      padding: 0 0 0 0;\n",
              "      width: 32px;\n",
              "    }\n",
              "\n",
              "    .colab-df-convert:hover {\n",
              "      background-color: #E2EBFA;\n",
              "      box-shadow: 0px 1px 2px rgba(60, 64, 67, 0.3), 0px 1px 3px 1px rgba(60, 64, 67, 0.15);\n",
              "      fill: #174EA6;\n",
              "    }\n",
              "\n",
              "    [theme=dark] .colab-df-convert {\n",
              "      background-color: #3B4455;\n",
              "      fill: #D2E3FC;\n",
              "    }\n",
              "\n",
              "    [theme=dark] .colab-df-convert:hover {\n",
              "      background-color: #434B5C;\n",
              "      box-shadow: 0px 1px 3px 1px rgba(0, 0, 0, 0.15);\n",
              "      filter: drop-shadow(0px 1px 2px rgba(0, 0, 0, 0.3));\n",
              "      fill: #FFFFFF;\n",
              "    }\n",
              "  </style>\n",
              "\n",
              "      <script>\n",
              "        const buttonEl =\n",
              "          document.querySelector('#df-c4ca1a82-5767-4e1f-87d8-8ab93801a69e button.colab-df-convert');\n",
              "        buttonEl.style.display =\n",
              "          google.colab.kernel.accessAllowed ? 'block' : 'none';\n",
              "\n",
              "        async function convertToInteractive(key) {\n",
              "          const element = document.querySelector('#df-c4ca1a82-5767-4e1f-87d8-8ab93801a69e');\n",
              "          const dataTable =\n",
              "            await google.colab.kernel.invokeFunction('convertToInteractive',\n",
              "                                                     [key], {});\n",
              "          if (!dataTable) return;\n",
              "\n",
              "          const docLinkHtml = 'Like what you see? Visit the ' +\n",
              "            '<a target=\"_blank\" href=https://colab.research.google.com/notebooks/data_table.ipynb>data table notebook</a>'\n",
              "            + ' to learn more about interactive tables.';\n",
              "          element.innerHTML = '';\n",
              "          dataTable['output_type'] = 'display_data';\n",
              "          await google.colab.output.renderOutput(dataTable, element);\n",
              "          const docLink = document.createElement('div');\n",
              "          docLink.innerHTML = docLinkHtml;\n",
              "          element.appendChild(docLink);\n",
              "        }\n",
              "      </script>\n",
              "    </div>\n",
              "  </div>\n",
              "  "
            ]
          },
          "metadata": {},
          "execution_count": 5
        }
      ],
      "source": [
        "# Take a look at the data.\n",
        "# It looks like the first column is the label,\n",
        "# And columns 1 - 785 are pixels.\n",
        "print(mnist_train.shape)\n",
        "mnist_train.head()"
      ]
    },
    {
      "cell_type": "code",
      "execution_count": null,
      "metadata": {
        "colab": {
          "base_uri": "https://localhost:8080/",
          "height": 308
        },
        "id": "K9KSy4IBJsHN",
        "outputId": "ab5d9b30-debf-4f5c-96b1-b5252b7b9422"
      },
      "outputs": [
        {
          "output_type": "display_data",
          "data": {
            "text/plain": [
              "<matplotlib.axes._subplots.AxesSubplot at 0x7f1abdf0c590>"
            ]
          },
          "metadata": {}
        },
        {
          "output_type": "display_data",
          "data": {
            "text/plain": [
              "0.11215"
            ]
          },
          "metadata": {}
        },
        {
          "output_type": "display_data",
          "data": {
            "text/plain": [
              "<Figure size 432x288 with 1 Axes>"
            ],
            "image/png": "[encoded data removed]"
          },
          "metadata": {
            "needs_background": "light"
          }
        }
      ],
      "source": [
        "# What's the distribuiont of labels in the train set?\n",
        "display(mnist_train[0].value_counts().sort_index().plot.bar())\n",
        "display(mnist_train[0].value_counts(normalize=True).max())"
      ]
    },
    {
      "cell_type": "code",
      "execution_count": null,
      "metadata": {
        "colab": {
          "base_uri": "https://localhost:8080/",
          "height": 308
        },
        "id": "uJHfKi8cJ985",
        "outputId": "f7851930-74e7-4e8b-f812-317c07f2efe4"
      },
      "outputs": [
        {
          "output_type": "display_data",
          "data": {
            "text/plain": [
              "<matplotlib.axes._subplots.AxesSubplot at 0x7f1ab5a5bd50>"
            ]
          },
          "metadata": {}
        },
        {
          "output_type": "display_data",
          "data": {
            "text/plain": [
              "0.11215"
            ]
          },
          "metadata": {}
        },
        {
          "output_type": "display_data",
          "data": {
            "text/plain": [
              "<Figure size 432x288 with 1 Axes>"
            ],
            "image/png": "[encoded data removed]"
          },
          "metadata": {
            "needs_background": "light"
          }
        }
      ],
      "source": [
        "# What's the distribuion of labels in the validation set?\n",
        "display(mnist_train[0].value_counts().sort_index().plot.bar())\n",
        "display(mnist_train[0].value_counts(normalize=True).max())"
      ]
    },
    {
      "cell_type": "code",
      "execution_count": null,
      "metadata": {
        "id": "cIYGoVRMx91l"
      },
      "outputs": [],
      "source": [
        "def show_number(row, ax=None):\n",
        "    \"\"\"\n",
        "    This function shows a row as an image, and titles it with the label.\n",
        "    \n",
        "    Options:\n",
        "    * row: a row from either of the mnist_train or mnist_valid dataframes.\n",
        "    * ax: if not None, will plot the digit on the provided ax.\n",
        "        Otherwise, this function should create a figure and \n",
        "    \"\"\"\n",
        "    return_fig = ax == None\n",
        "    target, values = row.values[0], row.values[1:].reshape(28, 28)\n",
        "    if not ax:\n",
        "        fig, ax = plt.subplots()\n",
        "    ax.imshow(values, cmap='gray_r')\n",
        "    ax.set_title(target)\n",
        "    \n",
        "    plt.close()\n",
        "    if return_fig:\n",
        "        return fig"
      ]
    },
    {
      "cell_type": "code",
      "execution_count": null,
      "metadata": {
        "colab": {
          "base_uri": "https://localhost:8080/",
          "height": 281
        },
        "id": "pjwuD3W7Ay7j",
        "outputId": "d38ebe80-416e-414c-fee3-8903ecc4224e"
      },
      "outputs": [
        {
          "output_type": "execute_result",
          "data": {
            "text/plain": [
              "<Figure size 432x288 with 1 Axes>"
            ],
            "image/png": "[encoded data removed]"
          },
          "metadata": {},
          "execution_count": 9
        }
      ],
      "source": [
        "show_number(mnist_train.sample(1).iloc[0])"
      ]
    },
    {
      "cell_type": "code",
      "execution_count": null,
      "metadata": {
        "id": "YbhVnnjW-wHK"
      },
      "outputs": [],
      "source": [
        "def show_many(n_rows=3, n_cols=3):\n",
        "    \"\"\"\n",
        "    This function shows a number of images at a time, by default 9.\n",
        "    It takes a random sample of (n_rows * n_cols) of the training data to show.\n",
        "    \"\"\"\n",
        "    # Sample the training data\n",
        "    train_df_sample = mnist_train.sample(n_rows * n_cols)\n",
        "    # Create the figure\n",
        "    fig = plt.figure(figsize=(4*n_cols, 4*n_rows))\n",
        "    # For each row in the sample, plot the number\n",
        "    for i, (_, row) in enumerate(train_df_sample.iterrows()):\n",
        "        ax = fig.add_subplot(n_rows, n_cols, 1+i)\n",
        "        show_number(row, ax)\n",
        "    plt.close()\n",
        "    return fig"
      ]
    },
    {
      "cell_type": "code",
      "execution_count": null,
      "metadata": {
        "colab": {
          "base_uri": "https://localhost:8080/",
          "height": 716
        },
        "id": "QAmtLzYP07er",
        "outputId": "d6975754-afdc-4cda-acc1-187c2109c34c"
      },
      "outputs": [
        {
          "output_type": "execute_result",
          "data": {
            "text/plain": [
              "<Figure size 864x864 with 9 Axes>"
            ],
            "image/png": "[encoded data removed]"
          },
          "metadata": {},
          "execution_count": 11
        }
      ],
      "source": [
        "show_many()"
      ]
    },
    {
      "cell_type": "code",
      "execution_count": null,
      "metadata": {
        "colab": {
          "base_uri": "https://localhost:8080/"
        },
        "id": "0CTuMZo532Kn",
        "outputId": "4ca989ad-e128-4280-97cf-357a94198aa8"
      },
      "outputs": [
        {
          "output_type": "execute_result",
          "data": {
            "text/plain": [
              "(255.0, 0.0)"
            ]
          },
          "metadata": {},
          "execution_count": 12
        }
      ],
      "source": [
        "# What are the min and max values of the data?\n",
        "mnist_train.loc[:, 1:].values.max(), \\\n",
        "mnist_train.loc[:, 1:].values.min()"
      ]
    },
    {
      "cell_type": "code",
      "execution_count": null,
      "metadata": {
        "colab": {
          "base_uri": "https://localhost:8080/"
        },
        "id": "N-P1Q-o0Jd4e",
        "outputId": "40b71c1a-d1d3-4268-f532-81da43973037"
      },
      "outputs": [
        {
          "output_type": "execute_result",
          "data": {
            "text/plain": [
              "numpy.float32"
            ]
          },
          "metadata": {},
          "execution_count": 13
        }
      ],
      "source": [
        "type(mnist_train.loc[1,2])"
      ]
    },
    {
      "cell_type": "code",
      "execution_count": null,
      "metadata": {
        "colab": {
          "base_uri": "https://localhost:8080/",
          "height": 279
        },
        "id": "CYRHdIphKc2V",
        "outputId": "277a2039-6118-4997-b84a-2b0516572ad8"
      },
      "outputs": [
        {
          "output_type": "display_data",
          "data": {
            "text/plain": [
              "<Figure size 432x288 with 1 Axes>"
            ],
            "image/png": "[encoded data removed]"
          },
          "metadata": {
            "needs_background": "light"
          }
        }
      ],
      "source": [
        "plt.hist(mnist_train.loc[:, 1:].values.ravel())\n",
        "plt.ylabel('Number of pixels')\n",
        "plt.xlabel('Value')\n",
        "plt.yscale('log')"
      ]
    },
    {
      "cell_type": "code",
      "execution_count": null,
      "metadata": {
        "id": "1A1BoEqQ3_YP"
      },
      "outputs": [],
      "source": [
        "# Let's scale all the data between 0 and 1.\n",
        "mnist_train_scaled = mnist_train.copy()\n",
        "mnist_train_scaled.loc[:, 1:] /= 255"
      ]
    },
    {
      "cell_type": "code",
      "execution_count": null,
      "metadata": {
        "id": "KKUlrbHx4T3x"
      },
      "outputs": [],
      "source": [
        "mnist_valid_scaled = mnist_valid.copy()\n",
        "mnist_valid_scaled.loc[:, 1:] /= 255"
      ]
    },
    {
      "cell_type": "code",
      "execution_count": null,
      "metadata": {
        "colab": {
          "base_uri": "https://localhost:8080/"
        },
        "id": "Pk6BerUY4Rrg",
        "outputId": "fc812050-3523-4271-e31c-ed0e6163546b"
      },
      "outputs": [
        {
          "output_type": "execute_result",
          "data": {
            "text/plain": [
              "(1.0, 0.0)"
            ]
          },
          "metadata": {},
          "execution_count": 17
        }
      ],
      "source": [
        "mnist_train_scaled.loc[:, 1:].values.max(), \\\n",
        "mnist_train_scaled.loc[:, 1:].values.min()"
      ]
    },
    {
      "cell_type": "code",
      "execution_count": null,
      "metadata": {
        "colab": {
          "base_uri": "https://localhost:8080/"
        },
        "id": "xSpxCJMjo8wP",
        "outputId": "188f0984-02e2-47c3-afb8-3730a47b60db"
      },
      "outputs": [
        {
          "output_type": "stream",
          "name": "stdout",
          "text": [
            "(20000, 785)\n",
            "<class 'numpy.float32'>  ghost  6.0\n",
            "<class 'numpy.float32'>  ghost  5.0\n",
            "<class 'numpy.float32'>  ghost  9.0\n",
            "<class 'numpy.float32'>  ghost  0.0\n",
            "<class 'numpy.float32'>  ghost  2.0\n",
            "<class 'numpy.float32'>  ghost  9.0\n",
            "<class 'numpy.float32'>  ghost  4.0\n",
            "<class 'numpy.float32'>  ghost  3.0\n",
            "<class 'numpy.float32'>  ghost  7.0\n",
            "<class 'numpy.float32'>  ghost  4.0\n"
          ]
        }
      ],
      "source": [
        "print(mnist_train_scaled.shape)\n",
        "a=0\n",
        "b=0\n",
        "\n",
        "\n",
        "for i in range(10):\n",
        "    a += i\n",
        "    print(\n",
        "        type(mnist_train_scaled.loc[a,b]),\n",
        "        \"\",\n",
        "        \"ghost\",\n",
        "        \"\",\n",
        "        mnist_train_scaled.loc[a,b]\n",
        "    )  "
      ]
    },
    {
      "cell_type": "code",
      "execution_count": null,
      "metadata": {
        "id": "AnbETmG_xFLX"
      },
      "outputs": [],
      "source": [
        "# # creating a DataFrame\n",
        "# data = {'1' : ['g', 'e', 'e'], \n",
        "#         '2' : ['k', 's', 'f'], \n",
        "#         '3' : ['o', 'r', 'g'], \n",
        "#         '4' : ['e', 'e', 'k']}\n",
        "# df = pd.DataFrame(data)\n",
        "# print(\"Original DataFrame\")\n",
        "# display(df)\n",
        "  \n",
        "# print(\"Value of row 1\")\n",
        "# display(df.iloc[1])"
      ]
    },
    {
      "cell_type": "markdown",
      "metadata": {
        "id": "EoR-Esrkz90U"
      },
      "source": [
        "# Exercise 8.1\n",
        "\n",
        "Now that we've preprocessed our data, we require objects to feed data to our model.\n",
        "Using your knowledge about `torch` datasets, complete the `MnistDataset` class.\n",
        "Your `__getitem__` method should return a tuple of two values - the first is a vector of lenth 784 representing the pixel values of the image, and the second is an integer representing the label (0-9).\n",
        "Both items should be of type `torch.Tensor`.\n",
        "\n",
        "<!-- startquestion -->\n"
      ]
    },
    {
      "cell_type": "code",
      "execution_count": null,
      "metadata": {
        "id": "WPtwZS5A2j9j"
      },
      "outputs": [],
      "source": [
        "class MnistDataset(Dataset):\n",
        "    \n",
        "    def __init__(self, x):\n",
        "        super().__init__()\n",
        "        self.x = x\n",
        "      \n",
        "    def __len__(self):\n",
        "        return len(self.x)\n",
        "\n",
        "    def __getitem__(self, idx):\n",
        "        row = self.x.iloc[idx][1:].to_numpy(dtype=\"float32\")\n",
        "        label = self.x[0][idx]\n",
        "        return torch.tensor(row, dtype=torch.float32), torch.tensor(label, dtype=torch.float32)\n",
        "\n",
        "#alt\n",
        "    # def __getitem__(self, idx):\n",
        "    #     row = self.x.iloc[idx, 1:].values\n",
        "    #     label = self.x.iloc[idx, 0]\n",
        "    #     return torch.tensor(row, dtype=float32), torch.tensor(label, dtype=float32)\n",
        "\n",
        "# getitem:\n",
        "# 1. vector/tensor of length 784 (row) -> ds.iloc[idx] \n",
        "# 2. Label (0-9) ((tensor)) -> ds[0]\n",
        "# Return: Tuple. (row, label)\n"
      ]
    },
    {
      "cell_type": "code",
      "execution_count": null,
      "metadata": {
        "id": "Ee0b8RitiRO-"
      },
      "outputs": [],
      "source": []
    },
    {
      "cell_type": "code",
      "execution_count": null,
      "metadata": {
        "id": "tAwX7SFM4jHo"
      },
      "outputs": [],
      "source": [
        "# try_out = torch.tensor(mnist_train_scaled.loc[0], dtype=float)\n",
        "# try_out[1:].shape"
      ]
    },
    {
      "cell_type": "code",
      "execution_count": null,
      "metadata": {
        "id": "vH_VYzCz4irc"
      },
      "outputs": [],
      "source": [
        "# Create datasets from the dataframes\n",
        "train_ds = MnistDataset(mnist_train_scaled)\n",
        "valid_ds = MnistDataset(mnist_valid_scaled)"
      ]
    },
    {
      "cell_type": "code",
      "execution_count": null,
      "metadata": {
        "id": "Z77roMcgGYrZ"
      },
      "outputs": [],
      "source": [
        "# print(train_ds)"
      ]
    },
    {
      "cell_type": "code",
      "execution_count": null,
      "metadata": {
        "id": "mWEgVO-1i-he"
      },
      "outputs": [],
      "source": [
        "# x, y = train_ds[0]\n",
        "# y"
      ]
    },
    {
      "cell_type": "code",
      "execution_count": null,
      "metadata": {
        "id": "BdS-tcnWzrHn"
      },
      "outputs": [],
      "source": [
        "# thing = mnist_train_scaled[1][1:].to_numpy(dtype=\"float32\")\n",
        "# print(thing)\n",
        "# print(type(thing))\n",
        "# print(thing.dtype)\n",
        "# print()\n",
        "# print()\n",
        "# thing = torch.tensor(thing, dtype=torch.float32)\n",
        "# print(thing)\n",
        "# print(type(thing))\n",
        "# print(thing.dtype)"
      ]
    },
    {
      "cell_type": "code",
      "execution_count": null,
      "metadata": {
        "id": "faG6A5Ea10BI"
      },
      "outputs": [],
      "source": [
        "# a, b = (6,7,8)\n",
        "# a"
      ]
    },
    {
      "cell_type": "code",
      "execution_count": null,
      "metadata": {
        "id": "du9MTd3B0_gX"
      },
      "outputs": [],
      "source": [
        "# Sanity check!\n",
        "_x, _y = train_ds[0]  \n",
        "assert _x.shape[0] == mnist_train_scaled.shape[1] - 1\n",
        "assert _y == mnist_train_scaled.loc[0,0]"
      ]
    },
    {
      "cell_type": "markdown",
      "metadata": {
        "id": "kweDlauk08tG"
      },
      "source": [
        "# Exercise 8.2\n",
        "\n",
        "Now that we've created our datasets, use them to create our train and validation dataloaders.\n",
        "Remember to shuffle your train dataloader but not your valid!\n",
        "\n",
        "<!-- startquestion -->"
      ]
    },
    {
      "cell_type": "markdown",
      "metadata": {
        "id": "yusLq08Yh_Uw"
      },
      "source": [
        "## Preparing Pipeline"
      ]
    },
    {
      "cell_type": "code",
      "execution_count": null,
      "metadata": {
        "id": "JDTRVMtKE0Ur"
      },
      "outputs": [],
      "source": [
        "BATCH_SIZE = 32\n",
        "N_WORKERS = cpu_count() "
      ]
    },
    {
      "cell_type": "code",
      "execution_count": null,
      "metadata": {
        "id": "VO4G7cPA4zQd"
      },
      "outputs": [],
      "source": [
        "# Create dataloaders from the datasets.\n",
        "# During the training phase, we need to keep both the activations \n",
        "# and the gradients in memory. However during the validation phase,\n",
        "# we don't have to store gradients so we can double the batch size!\n",
        "\n",
        "train_dl = DataLoader(\n",
        "    train_ds, \n",
        "    batch_size=BATCH_SIZE, \n",
        "    shuffle=True, \n",
        "    num_workers=N_WORKERS\n",
        ")\n",
        "\n",
        "valid_dl = DataLoader(\n",
        "    valid_ds, \n",
        "    batch_size=BATCH_SIZE, \n",
        "    shuffle=False, \n",
        "    num_workers=N_WORKERS\n",
        ")"
      ]
    },
    {
      "cell_type": "code",
      "execution_count": null,
      "metadata": {
        "id": "8vHg66A5Kk6k"
      },
      "outputs": [],
      "source": [
        "# # FROM SECTION 2 ON SEQUENTIAL:\n",
        "# def multilayer_regressor(in_dim, hidden_dim):\n",
        "#     return nn.Sequential(\n",
        "#         nn.Linear(in_dim, hidden_dim),\n",
        "#         nn.ReLU(),\n",
        "#         MultiLayerRegressor(hidden_dim, hidden_dim),\n",
        "#         nn.ReLU(),\n",
        "#         # nn.Linear(hidden_dim, hidden_dim),\n",
        "#         # nn.ReLU(),\n",
        "#         # nn.Linear(hidden_dim, hidden_dim),\n",
        "#         # nn.ReLU(),\n",
        "#         # nn.Linear(hidden_dim, hidden_dim),\n",
        "#         # nn.ReLU(),\n",
        "#         nn.Linear(hidden_dim, 1),\n",
        "#     )"
      ]
    },
    {
      "cell_type": "code",
      "execution_count": null,
      "metadata": {
        "id": "4jZFug0E3JcB"
      },
      "outputs": [],
      "source": [
        "def linear(in_features:int, out_features:int, dropout=0.2):\n",
        "    \"\"\"\n",
        "    Returns an nn.Sequential module that we want to repeat a lot.\n",
        "    The module contains a linear layer, ReLU activation, BatchNorm, and dropout.\n",
        "    \"\"\"\n",
        "    seq_mod = nn.Sequential(    \n",
        "            nn.Linear(in_features, out_features),\n",
        "            nn.BatchNorm1d(out_features),\n",
        "            nn.ReLU(),\n",
        "            nn.Dropout(p=dropout, inplace=True)         \n",
        "            )\n",
        "    return seq_mod\n",
        "    raise NotImplementedError\n",
        "\n",
        "\n",
        "# Alternate the order of the models layer:\n",
        "# def linear(in_features, out_features, dropout=0.2):\n",
        "\n",
        "#     seq_mod_alt = nn.Sequential(    \n",
        "#             nn.Linear(in_features, out_features),\n",
        "#             nn.ReLU(),\n",
        "#             nn.BatchNorm1d(out_features),\n",
        "#             nn.Dropout(p=dropout, inplace=True)         \n",
        "#             )\n",
        "#     return seq_mod_alt \n",
        "    \n"
      ]
    },
    {
      "cell_type": "code",
      "execution_count": null,
      "metadata": {
        "id": "nXUhyeGN4nU-"
      },
      "outputs": [],
      "source": [
        "# Sanity check!\n",
        "assert len(linear(1,1)) == 4"
      ]
    },
    {
      "cell_type": "code",
      "execution_count": null,
      "metadata": {
        "id": "ukf-1HXu2CyR"
      },
      "outputs": [],
      "source": [
        "# Define some parameters for the model\n",
        "class Config(AttrDict):\n",
        "    def __init__(self, num_input_features=28*28, n_hidden_layers=2, hidden_dim=256, n_labels=10):\n",
        "        self.num_input_features = num_input_features\n",
        "        self.n_hidden_layers = n_hidden_layers\n",
        "        self.hidden_dim = hidden_dim\n",
        "        self.n_labels = n_labels\n",
        "        self.device = 'cuda' if torch.cuda.is_available() else 'cpu'\n",
        "\n",
        "config = Config()"
      ]
    },
    {
      "cell_type": "markdown",
      "metadata": {
        "id": "NpZO9vEjd_qi"
      },
      "source": [
        "### classifier should *start* with a \n",
        "linear module with \n",
        "<br/>config.num_input_features inputs \n",
        "<br/>and \n",
        "<br/>config.hidden_dim outputs\n",
        "### <br/>followed by \n",
        "config.n_hidden_layers hidden layers, \n",
        "<br/> >>keeping the dimensionality of the actvations constant\n",
        "### <br/>Finally\n",
        "nn.Linear layer that takes <br/>config.hidden_dim inputs<br/>and<br/>config.n_labels outputs\n"
      ]
    },
    {
      "cell_type": "code",
      "execution_count": null,
      "metadata": {
        "colab": {
          "base_uri": "https://localhost:8080/"
        },
        "id": "f84959RHmtYl",
        "outputId": "d28ffc28-c460-4d83-e5aa-517845aee7ba"
      },
      "outputs": [
        {
          "output_type": "execute_result",
          "data": {
            "text/plain": [
              "AttrDict({'num_input_features': 784, 'n_hidden_layers': 2, 'hidden_dim': 256, 'n_labels': 10, 'device': 'cuda'})"
            ]
          },
          "metadata": {},
          "execution_count": 34
        }
      ],
      "source": [
        "config"
      ]
    },
    {
      "cell_type": "code",
      "execution_count": null,
      "metadata": {
        "id": "Sj4grtALSRi1"
      },
      "outputs": [],
      "source": [
        "def build_model(config):\n",
        "    hidden_dim = config.hidden_dim\n",
        "    # model\n",
        "    model = nn.Sequential(\n",
        "        # 1st layer\n",
        "        linear(in_features=config.num_input_features, out_features=hidden_dim),\n",
        "        # hidden layers\n",
        "        linear(in_features=hidden_dim, out_features= hidden_dim),\n",
        "        linear(in_features=hidden_dim, out_features= hidden_dim),\n",
        "        # final layer\n",
        "        nn.Linear(in_features=hidden_dim, out_features=config.n_labels)\n",
        "    )\n",
        "    # to device\n",
        "    print('Model device: ', next(model.parameters()).device)\n",
        "    if not next(model.parameters()).is_cuda & torch.cuda.is_available():\n",
        "        print('Model is on CPU, but GPU is available. Putting model on GPU.')\n",
        "        model = model.to(config.device)\n",
        "    print('Model device: ', next(model.parameters()).device)\n",
        "\n",
        "    return model\n",
        "\n",
        "\n",
        "    raise NotImplementedError()"
      ]
    },
    {
      "cell_type": "code",
      "execution_count": null,
      "metadata": {
        "colab": {
          "base_uri": "https://localhost:8080/"
        },
        "id": "TFTpRLFg5ela",
        "outputId": "e47944c9-1ae1-432f-b098-8d98361ff390"
      },
      "outputs": [
        {
          "output_type": "stream",
          "name": "stdout",
          "text": [
            "Model device:  cpu\n",
            "Model is on CPU, but GPU is available. Putting model on GPU.\n",
            "Model device:  cuda:0\n"
          ]
        }
      ],
      "source": [
        "# instantiate the model\n",
        "model = build_model(config)"
      ]
    },
    {
      "cell_type": "code",
      "execution_count": null,
      "metadata": {
        "colab": {
          "base_uri": "https://localhost:8080/"
        },
        "id": "ptNVfOgrnPnx",
        "outputId": "97a2b960-08d7-4255-b9e9-87e50e90d7e6"
      },
      "outputs": [
        {
          "output_type": "execute_result",
          "data": {
            "text/plain": [
              "torch.nn.modules.container.Sequential"
            ]
          },
          "metadata": {},
          "execution_count": 37
        }
      ],
      "source": [
        "type(model)"
      ]
    },
    {
      "cell_type": "code",
      "execution_count": null,
      "metadata": {
        "colab": {
          "base_uri": "https://localhost:8080/"
        },
        "id": "z1c5ckLZTKyq",
        "outputId": "ddc300a3-66e6-4d05-8849-abaf37955989"
      },
      "outputs": [
        {
          "output_type": "stream",
          "name": "stdout",
          "text": [
            "Model device:  cuda:0\n"
          ]
        }
      ],
      "source": [
        "# if the model's not on the GPU but it's available, put it there.\n",
        "print('Model device: ', next(model.parameters()).device)\n",
        "if not next(model.parameters()).is_cuda & torch.cuda.is_available():\n",
        "    print('Model is on CPU, but GPU is available. Putting model on GPU.')\n",
        "    model = model.to(config.device)\n",
        "    print('Model device: ', next(model.parameters()).device)"
      ]
    },
    {
      "cell_type": "code",
      "execution_count": null,
      "metadata": {
        "id": "z0vDVxKo2jij"
      },
      "outputs": [],
      "source": [
        "# Sanity check!\n",
        "assert len(model) == config.n_hidden_layers + 2"
      ]
    },
    {
      "cell_type": "code",
      "execution_count": null,
      "metadata": {
        "colab": {
          "base_uri": "https://localhost:8080/"
        },
        "id": "i32PHOveL5E8",
        "outputId": "c191a9ee-4b6f-4804-e14a-7ef0c7218aa7"
      },
      "outputs": [
        {
          "output_type": "execute_result",
          "data": {
            "text/plain": [
              "torch.Size([32, 10])"
            ]
          },
          "metadata": {},
          "execution_count": 40
        }
      ],
      "source": [
        "# Another sanity check: our model should be able to operate on a batch of data.\n",
        "for x_b, y_b in train_dl:\n",
        "    break\n",
        "\n",
        "# model(x_b.to(config.device)).shape\n",
        "model(x_b.to(config.device)).shape\n"
      ]
    },
    {
      "cell_type": "code",
      "execution_count": null,
      "metadata": {
        "id": "ZgqtKpau5RjN"
      },
      "outputs": [],
      "source": [
        "loss_func = nn.CrossEntropyLoss()\n",
        "opt = torch.optim.Adam(model.parameters())\n",
        "metric = torchmetrics.Accuracy()"
      ]
    },
    {
      "cell_type": "code",
      "execution_count": null,
      "metadata": {
        "id": "Z8KwAvOP8rBk",
        "colab": {
          "base_uri": "https://localhost:8080/"
        },
        "outputId": "76f38436-df52-4bdb-a055-1dc5f870dbf3"
      },
      "outputs": [
        {
          "output_type": "stream",
          "name": "stdout",
          "text": [
            "(tensor([[ 1.0589,  0.1756, -0.0101,  0.1093, -0.3343,  0.0300, -0.3361, -0.2803,\n",
            "          0.9750, -0.1538],\n",
            "        [ 0.3540,  0.1898, -0.5068,  0.0250, -0.0049,  0.0055, -0.1669,  0.0389,\n",
            "          0.0524, -0.2705],\n",
            "        [-0.4512, -0.2617, -0.3308,  0.3054, -0.0270, -0.0728, -0.1689, -0.0928,\n",
            "         -0.4818, -0.3897],\n",
            "        [-0.2056, -0.1753,  0.1802, -0.1757, -0.0167,  0.0371,  0.0427, -0.0748,\n",
            "         -0.1877,  0.2958],\n",
            "        [ 0.2379, -0.3647, -0.0823, -0.3968,  0.1496, -0.0137,  0.1145,  0.2743,\n",
            "          0.0704,  0.6295],\n",
            "        [ 0.1855,  0.4532, -0.0436,  0.2493, -0.3428, -0.3586, -0.3180, -0.1936,\n",
            "          0.5862, -0.1616],\n",
            "        [-0.5963,  0.6206,  0.1198,  0.0014, -0.0064,  0.3827,  0.0120, -0.0689,\n",
            "          0.3145, -0.3856],\n",
            "        [-0.4216, -0.7208,  0.3378,  0.0337,  0.4600,  0.2552,  0.1845, -0.1519,\n",
            "         -0.6031, -0.3690],\n",
            "        [ 0.5091,  0.0883, -0.0498, -0.0485,  0.0677, -0.0378,  0.0687, -0.6046,\n",
            "         -0.1520,  0.3189],\n",
            "        [ 0.7641,  0.3150, -0.5184, -0.2154, -0.0630,  0.2141, -0.0175,  0.2363,\n",
            "          0.4961,  0.3505],\n",
            "        [-0.0739, -0.2340,  0.2116,  0.1931, -0.2697, -0.0827, -0.3172,  0.4230,\n",
            "          0.0290, -0.5057],\n",
            "        [-0.5072, -0.1908,  0.4595,  0.1786, -0.2977,  0.0296,  0.0069,  0.0729,\n",
            "         -0.2698, -0.1353],\n",
            "        [-0.0710,  0.5439, -0.3656,  0.1002, -0.2348, -0.2938,  0.4353, -0.5399,\n",
            "          0.1206,  0.2461],\n",
            "        [-0.0574, -0.0124, -0.4453, -0.2331,  0.3006, -0.0389, -0.0230,  0.0404,\n",
            "          0.4329,  0.1134],\n",
            "        [ 0.0941, -0.1809,  0.4727,  0.1091,  0.2177,  0.3405, -0.4613,  0.5756,\n",
            "         -0.4621, -0.0663],\n",
            "        [ 0.1146,  0.3078,  0.1753,  0.0720, -0.3822,  0.1683,  0.3248, -0.3495,\n",
            "         -0.1846,  0.2057],\n",
            "        [ 0.0920, -0.0670, -0.3973, -0.1361,  0.1393, -0.2312,  0.0199, -0.0845,\n",
            "          0.0399,  0.1610],\n",
            "        [-0.2667,  0.0787,  0.2511, -0.1674,  0.2806, -0.1795, -0.2665,  0.2835,\n",
            "         -0.2545, -0.2820],\n",
            "        [-0.6488,  0.1640,  0.4696, -0.0958,  0.0761,  0.1800, -0.1880, -0.0051,\n",
            "         -0.1426,  0.0168],\n",
            "        [ 0.2386, -0.0444, -0.4511,  0.2836,  0.3450,  0.0426,  0.2722, -0.1256,\n",
            "          0.0644, -0.1251],\n",
            "        [ 0.5526, -0.1794, -0.0179,  0.1277, -0.4057, -0.2080,  0.7596,  0.2014,\n",
            "          0.3349, -0.1138],\n",
            "        [-0.0297, -0.2475,  0.3199, -0.1115, -0.3441,  0.0944, -0.1520, -0.0339,\n",
            "         -0.3060,  0.2027],\n",
            "        [ 0.0976,  0.2334, -0.2126,  0.2031,  0.4179, -0.4044, -0.4295, -0.1058,\n",
            "          0.3626,  0.3798],\n",
            "        [-0.0510,  0.2035, -0.3783,  0.0587, -0.2902, -0.0024, -0.1598,  0.4233,\n",
            "          0.3126,  0.1674],\n",
            "        [ 0.1304, -0.0621, -0.3446, -0.3579, -0.1268,  0.4893,  0.2904, -0.0515,\n",
            "         -0.2558, -0.3608],\n",
            "        [-0.1877, -0.2362,  0.0012, -0.0346,  0.0853, -0.0470,  0.1846, -0.1737,\n",
            "         -0.1037, -0.2225],\n",
            "        [-0.2178, -0.1524, -0.1957, -0.0382,  0.3593, -0.1844, -0.4566,  0.3878,\n",
            "          0.1441, -0.0503],\n",
            "        [ 0.4424,  0.2073,  0.2473, -0.0521, -0.0902,  0.0194, -0.2953, -0.5612,\n",
            "          0.0553,  0.2878],\n",
            "        [ 0.0617, -0.5607,  0.3234,  0.3271, -0.1310,  0.6021,  0.0857, -0.1283,\n",
            "          0.2535, -0.0503],\n",
            "        [-0.1781,  0.4832, -0.0951, -0.1354,  0.1969, -0.1539,  0.3385,  0.1641,\n",
            "          0.2859, -0.4400],\n",
            "        [-0.0910,  0.4971, -0.0173, -0.0141, -0.4753, -0.4395,  0.3309, -0.1361,\n",
            "         -0.2963,  0.0865],\n",
            "        [-0.0786, -0.8780,  0.0887,  1.1176, -0.5052, -0.0891, -0.0553,  0.6181,\n",
            "         -0.0197,  0.4433]], device='cuda:0', grad_fn=<CatBackward0>), tensor([[ 2.9494e-01,  5.5224e-01, -1.0595e-01, -2.3615e-01,  1.5324e-01,\n",
            "          2.8079e-01,  4.9393e-02, -4.9432e-01,  1.8832e-01,  6.5981e-01],\n",
            "        [-5.8837e-01,  1.7776e-02, -1.3906e-01, -3.9827e-01,  1.1355e-01,\n",
            "          2.7989e-01, -1.0573e-01,  1.6122e-01,  2.5157e-01, -4.6895e-01],\n",
            "        [-3.3459e-02, -3.0856e-01, -2.7077e-01,  2.6578e-01,  1.3378e-01,\n",
            "          1.1878e-01,  8.2831e-02, -2.7505e-01, -1.2116e-01,  1.3994e-02],\n",
            "        [-2.0948e-01,  1.3813e-01,  4.2803e-01, -9.4459e-02, -2.6460e-01,\n",
            "          1.3797e-01, -1.2571e-01, -1.5163e-01, -4.5345e-02, -2.8475e-01],\n",
            "        [ 2.7074e-02,  7.7221e-02, -2.7121e-01,  6.8874e-02,  3.4659e-01,\n",
            "          1.7817e-01, -2.9029e-02, -5.0543e-01,  2.4944e-01,  9.8099e-01],\n",
            "        [-1.4147e+00, -1.8205e-01,  3.9593e-01,  1.3747e-01,  1.1851e-01,\n",
            "          1.0282e-01,  1.6231e-01, -1.9576e-01,  3.0986e-01,  8.3356e-01],\n",
            "        [ 5.6241e-01, -1.5193e-01, -4.7512e-01, -2.3030e-01, -2.6133e-01,\n",
            "          2.0299e-01,  1.3598e-01,  3.9876e-01,  2.8143e-01, -5.1469e-01],\n",
            "        [ 1.0192e+00,  5.3405e-01, -2.2330e-01,  1.1293e-02,  4.9978e-01,\n",
            "          1.2128e-01, -2.8926e-01,  1.0671e-01, -6.8705e-03, -5.6677e-01],\n",
            "        [-3.5994e-02,  6.0740e-01,  2.7939e-01, -1.0807e-01, -3.9874e-02,\n",
            "         -7.2528e-02, -2.7110e-01, -3.8885e-01,  6.4337e-02, -4.6378e-02],\n",
            "        [ 1.7762e-01, -2.4881e-02, -3.6009e-01,  1.2882e-01,  5.1048e-01,\n",
            "          1.2224e-01, -8.5613e-01, -1.1392e-01,  9.1664e-01,  3.7491e-01],\n",
            "        [-9.3416e-01, -6.7504e-01, -2.5095e-01,  3.4729e-01,  3.8962e-01,\n",
            "         -2.7019e-02, -2.4889e-01,  1.2475e-01,  1.7848e-01, -3.3760e-01],\n",
            "        [-1.4250e-01,  2.6061e-01,  6.6993e-02, -3.5243e-01,  2.3467e-01,\n",
            "          7.4735e-02, -3.5048e-01,  2.3224e-01, -1.2022e-02, -6.9449e-01],\n",
            "        [-3.0134e-01,  2.9169e-01,  1.1850e-01, -4.0986e-01,  2.4060e-01,\n",
            "          2.7756e-01, -2.0562e-01, -1.5200e-01, -2.9699e-02, -6.8566e-02],\n",
            "        [ 1.0873e+00, -3.3975e-02, -3.7663e-01, -2.2161e-01, -1.5938e-01,\n",
            "          7.4486e-01, -5.9654e-01, -8.2425e-02,  7.7391e-01, -4.4366e-01],\n",
            "        [-2.1135e-01, -9.6238e-02, -1.0221e-01,  3.3601e-01,  4.3479e-01,\n",
            "         -4.5972e-02, -1.2629e-01,  3.0382e-01,  4.3313e-02, -7.0739e-01],\n",
            "        [ 5.3732e-01,  3.4463e-01, -8.6676e-02, -4.7665e-01,  7.2003e-02,\n",
            "          6.5896e-02, -3.6139e-01, -8.3260e-02,  1.3198e-01,  3.4792e-01],\n",
            "        [ 1.7504e-01, -3.5528e-02, -3.3795e-01, -2.2150e-01,  5.3102e-01,\n",
            "          6.6110e-01, -6.4400e-01, -2.0565e-01,  5.9851e-01,  7.3360e-02],\n",
            "        [ 2.1922e-01, -1.4470e-01, -1.5570e-01,  6.0013e-02, -2.3125e-02,\n",
            "         -5.3568e-02, -2.1470e-01, -6.3274e-02,  3.7744e-01,  5.9012e-01],\n",
            "        [ 8.6580e-01,  4.8230e-01, -5.8400e-01, -1.9204e-01,  5.1886e-01,\n",
            "          1.1400e-01, -1.8094e-01, -1.9366e-01,  3.2986e-02,  1.8436e-02],\n",
            "        [ 1.8448e+00,  9.7373e-01, -4.1550e-01, -3.3355e-01,  2.5270e-01,\n",
            "         -3.1759e-01, -3.9984e-01, -1.7887e-02,  3.9931e-01,  9.0877e-01],\n",
            "        [ 2.9987e-01, -2.0741e-01, -2.5598e-01,  6.0406e-01,  2.7783e-01,\n",
            "          4.1272e-02, -3.4916e-01, -4.0153e-01,  3.3480e-02, -3.6060e-01],\n",
            "        [ 3.8085e-01,  4.0323e-01, -1.0839e-01, -7.2136e-01, -8.3011e-02,\n",
            "          8.4776e-01,  9.5105e-03, -4.4261e-01,  8.4145e-02,  1.1328e-02],\n",
            "        [-1.3565e-01,  1.4222e-01, -1.2004e-01, -5.9984e-02,  4.8380e-01,\n",
            "          2.3338e-01, -4.7751e-01, -5.5549e-01,  2.7010e-01,  6.5678e-01],\n",
            "        [ 6.5243e-01,  9.3031e-02, -1.3861e-01, -9.0835e-02, -6.9055e-01,\n",
            "          3.7176e-04,  3.0809e-01,  3.4950e-01,  5.6976e-01,  4.5678e-02],\n",
            "        [ 3.7338e-01, -1.8510e-01, -2.6493e-01,  2.8057e-02,  4.2275e-01,\n",
            "          3.6379e-01, -5.1847e-02, -8.3039e-02,  1.4176e-02,  3.6625e-01],\n",
            "        [ 2.6739e-01, -3.8204e-01, -4.3439e-01,  1.2704e-01,  1.5659e-01,\n",
            "          4.1759e-01, -2.3269e-01, -1.9677e-01,  2.6044e-01, -1.6434e-01],\n",
            "        [ 2.7645e-01,  3.8649e-03, -6.3324e-02,  1.1211e-01,  4.1038e-01,\n",
            "          4.6309e-01, -1.7856e-01, -3.7128e-01, -3.4617e-02,  1.2864e-01],\n",
            "        [ 3.9809e-01, -3.6001e-01, -3.2015e-01,  6.8208e-01,  1.0335e-02,\n",
            "         -3.9838e-01,  3.3954e-01,  4.0401e-01, -1.7770e-01, -5.5329e-01],\n",
            "        [-1.9361e-01, -1.9123e-01, -3.2278e-01, -2.2538e-01,  4.8185e-01,\n",
            "          2.5802e-01, -7.5911e-01, -2.0645e-02,  8.1433e-01,  5.9344e-01],\n",
            "        [-8.4669e-01, -9.8352e-02,  5.6763e-01,  2.2772e-01,  2.8537e-01,\n",
            "         -1.8163e-01, -3.9088e-01,  5.7173e-01, -9.9739e-02, -1.1609e+00],\n",
            "        [ 1.1289e+00, -1.0826e-01, -9.4134e-01,  6.6623e-02,  4.6335e-01,\n",
            "          3.9961e-01, -4.4111e-01, -7.3238e-02,  2.1026e-01, -8.5828e-01],\n",
            "        [ 3.2951e-01, -2.4629e-02,  5.6455e-02, -2.3030e-01, -1.4003e-01,\n",
            "          6.2458e-01, -8.7512e-02, -5.5457e-02,  1.2288e-01, -3.9530e-01]],\n",
            "       device='cuda:0', grad_fn=<CatBackward0>))\n"
          ]
        }
      ],
      "source": [
        "# Trying stuff out:\n",
        "\n",
        "for x_b, y_b in train_dl:\n",
        "    break\n",
        "x_b = x_b.to(config.device)\n",
        "y_b = y_b.to(config.device)\n",
        "# model(x_b.to(config.device)).shape\n",
        "yhatz = model(x_b)\n",
        "# yhatz.type(torch.LongTensor)\n",
        "loss = loss_func(yhatz, y_b.long())\n",
        "# gradients\n",
        "# torch.autograd.set_detect_anomaly(True)\n",
        "# loss.backward()\n",
        "grads = torch.gradient(yhatz)\n",
        "print(grads)\n",
        "# print(f\"x_b = {x_b}\")\n",
        "# print(f\"y_b = {y_b}\")\n",
        "# print(f\"yhatz = {yhatz}\")\n",
        "# print(f\"loss = {loss}\")\n",
        "\n",
        "# Mike's solution\n",
        "\n",
        "# for x_b, y_b in train_dl:\n",
        "#     break\n",
        "# x_b = x_b.to(config.device)\n",
        "# y_b = y_b.to(config.device)\n",
        "# # model(x_b.to(config.device)).shape\n",
        "# yhatz = model(x_b)\n",
        "# # yhatz.type(torch.LongTensor)\n",
        "# loss = loss_func(yhatz,y_b.long())\n",
        "# # print(f\"x_b = {x_b}\")\n",
        "# # print(f\"y_b = {y_b}\")\n",
        "# # print(f\"yhatz = {yhatz}\")\n",
        "# print(f\"loss = {loss}\")\n",
        "\n",
        "\n",
        "\n",
        "# # From crossentropyloss doc\n",
        "\n",
        "\n",
        "# # Example of target with class indices\n",
        "\n",
        "# loss = nn.CrossEntropyLoss()\n",
        "# input = torch.randn(3, 5, requires_grad=True)\n",
        "# target = torch.empty(3, dtype=torch.long).random_(5)\n",
        "# output = loss(input, target)\n",
        "# output.backward()\n",
        "# \n",
        "# # Example of target with class probabilities\n",
        "\n",
        "# input = torch.randn(3, 5, requires_grad=True)\n",
        "# target = torch.randn(3, 5).softmax(dim=1)\n",
        "# output = loss(input, target)\n",
        "# output.backward()\n",
        "\n"
      ]
    },
    {
      "cell_type": "code",
      "execution_count": null,
      "metadata": {
        "id": "0xOfbQ4T-L3S"
      },
      "outputs": [],
      "source": [
        "def train_step(x_b, y_b):\n",
        "    # Send x_b and y_b to the GPU, if available\n",
        "    x_b = x_b.to(config.device)\n",
        "    y_b = y_b.to(config.device)\n",
        "    \n",
        "    # Generate yhat\n",
        "    yhat = model(x_b)\n",
        "\n",
        "    # Calculate the loss\n",
        "    loss = loss_func(yhatz, y_b.long())\n",
        "\n",
        "    # Calculate gradients\n",
        "    loss.backward()\n",
        "    \n",
        "\n",
        "    # Perform your update and zero out your gradients\n",
        "    opt.step()\n",
        "    opt.zero_grad()\n",
        "\n",
        "    # Update your accuracy metric. We'll give you this one!\n",
        "    batch_acc = metric(yhat.cpu().softmax(axis=1), y_b.cpu())\n",
        "\n",
        "    # Return the loss\n",
        "    return loss"
      ]
    },
    {
      "cell_type": "code",
      "execution_count": null,
      "metadata": {
        "id": "pS45cCPv_gbo"
      },
      "outputs": [],
      "source": [
        "def validation_step(x_b, y_b):\n",
        "    # Send x_b and y_b to the GPU, if available\n",
        "    x_b = x_b.to(config.device)\n",
        "    y_b = y_b.to(config.device)\n",
        "    # Tell torch not to calculate gradients on the validation batch\n",
        "    with torch.no_grad():\n",
        "        # Generate yhat\n",
        "        yhat = model(x_b)\n",
        "        # Calculate the loss\n",
        "        loss = loss_func(yhatz, y_b.long())\n",
        "\n",
        "    # Ok, you've seen this before, you do it this time!\n",
        "    batch_acc = metric(yhat.cpu().softmax(axis=1), y_b.cpu())\n",
        "\n",
        "    # Return the loss\n",
        "    return loss"
      ]
    },
    {
      "cell_type": "markdown",
      "metadata": {
        "id": "4XgJpCpgbCo9"
      },
      "source": [
        "## Pipeline Script"
      ]
    },
    {
      "cell_type": "code",
      "execution_count": null,
      "metadata": {
        "colab": {
          "base_uri": "https://localhost:8080/"
        },
        "id": "1gsDzYhJ5SpS",
        "outputId": "b9405e0b-c34e-4ff1-ab30-cc2481f2efc1"
      },
      "outputs": [
        {
          "output_type": "stream",
          "name": "stdout",
          "text": [
            "Model device:  cpu\n",
            "Model is on CPU, but GPU is available. Putting model on GPU.\n",
            "Model device:  cuda:0\n"
          ]
        }
      ],
      "source": [
        "# Workers / Batch / Epochs\n",
        "N_WORKERS = cpu_count() \n",
        "BATCH_SIZE = 64 # Batch_Parameter\n",
        "N_EPOCHS = 12\n",
        "\n",
        "'''\n",
        "Life's a Batch    \n",
        "    Having an Issue With: \n",
        "        ValueError:\n",
        "            'Expected input batch_size (32) to match target batch_size (64)'\n",
        "\n",
        "            Identify As ->\n",
        "                input_bs \n",
        "                target_bs\n",
        "\n",
        "    Thoughts:\n",
        "        An issue within the loss_func \n",
        "        Does the loss function encode the input_bs?\n",
        "        Where is the input_bs encoded?\n",
        "        Is there something occurring with the linear layer outputs?\n",
        "            Specify batch size in nn.Linear? ex. [BATCH_SIZE, inp_feats, outp_feats]\n",
        "    \n",
        "    What to Explore:\n",
        "        'Batch_Mark' spots\n",
        "        Where is target_bs?\n",
        "        How does softmax come into this? # softmax_mark\n",
        "    \n",
        "    What are:\n",
        "        input_bs    (32)    < This is where the problem is\n",
        "                &\n",
        "        target_bs   (BATCH_SIZE)\n",
        "            \n",
        "    Where are they being set?\n",
        "        Target_bs : Batch_Parameter\n",
        "        \n",
        "        input_bs\n",
        "            label smoothing? no\n",
        "            red\n",
        "        \n",
        "        problem occurring:\n",
        "            with:\n",
        "                input_bs\n",
        "            at: \n",
        "                loss = train_step(x_b, y_b.int())\n",
        "                    module\n",
        "                        loss.py\n",
        "                            label_smoothing\n",
        "    \n",
        "    yhatZ!!\n",
        "        I hadn't fixed the code fromt the tryout code that included yhatz. This was throwing the batch_size expectations\n",
        "        I learned a ton while exploring this!                            \n",
        "'''\n",
        "\n",
        "# Data Loaders\n",
        "train_dl = DataLoader(\n",
        "    train_ds, \n",
        "    batch_size=BATCH_SIZE, # Batch_Mark | input_bs | Set by Batch_Parameter\n",
        "    shuffle=True, \n",
        "    num_workers=N_WORKERS\n",
        ")\n",
        "\n",
        "valid_dl = DataLoader(\n",
        "    valid_ds, \n",
        "    batch_size=BATCH_SIZE, # Batch_Mark | input_bs | Set by Batch_Parameter\n",
        "    shuffle=False, \n",
        "    num_workers=N_WORKERS\n",
        ")\n",
        "\n",
        "\n",
        "# custom linear layer\n",
        "def linear(in_features:int, out_features:int, dropout=0.2): \n",
        "    \"\"\"\n",
        "    Returns an nn.Sequential module that we want to repeat a lot.\n",
        "    The module contains a linear layer, ReLU activation, BatchNorm, and dropout.\n",
        "    \"\"\"\n",
        "    seq_mod = nn.Sequential(    \n",
        "            nn.Linear(in_features=in_features, out_features=out_features), # Batch_Mark\n",
        "            nn.BatchNorm1d(out_features),\n",
        "            nn.ReLU(),\n",
        "            nn.Dropout(p=dropout)         \n",
        "            )\n",
        "    return seq_mod\n",
        "    raise NotImplementedError\n",
        "\n",
        "\n",
        "# Config parameters for the model\n",
        "class Config(AttrDict):\n",
        "    def __init__(self, num_input_features=28*28, n_hidden_layers=2, hidden_dim=256, n_labels=10):\n",
        "        self.num_input_features = num_input_features\n",
        "        self.n_hidden_layers = n_hidden_layers\n",
        "        self.hidden_dim = hidden_dim\n",
        "        self.n_labels = n_labels\n",
        "        self.device = 'cuda' if torch.cuda.is_available() else 'cpu'\n",
        "config = Config()\n",
        "\n",
        "\n",
        "# Model Builder\n",
        "def build_model(config):\n",
        "    hidden_dim = config.hidden_dim\n",
        "    # model\n",
        "    model = nn.Sequential(\n",
        "        # 1st\n",
        "        linear(in_features=config.num_input_features, out_features=hidden_dim),\n",
        "        # hidden\n",
        "        linear(in_features=hidden_dim, out_features=hidden_dim),\n",
        "        linear(in_features=hidden_dim, out_features=hidden_dim),\n",
        "        # final\n",
        "        nn.Linear(in_features=hidden_dim, out_features=config.n_labels) # Batch_Mark\n",
        "    )\n",
        "# to device\n",
        "    print('Model device: ', next(model.parameters()).device)\n",
        "    if not next(model.parameters()).is_cuda & torch.cuda.is_available():\n",
        "        print('Model is on CPU, but GPU is available. Putting model on GPU.')\n",
        "        model = model.to(config.device)\n",
        "    print('Model device: ', next(model.parameters()).device)\n",
        "    return model\n",
        "    raise NotImplementedError()\n",
        "\n",
        "\n",
        "# Instantiate the Model\n",
        "model = build_model(config)\n",
        "\n",
        "# Loss / Opt / Metric\n",
        "loss_func = nn.CrossEntropyLoss()\n",
        "# opt = torch.optim.Adam(model.parameters())\n",
        "opt = torch.optim.Adam(model.parameters(), amsgrad=True)\n",
        "# opt = torch.optim.SGD( model.parameters(), lr=.01)\n",
        "# opt = torch.optim.Adamax(lr=.02, params=model.parameters())\n",
        "metric = torchmetrics.Accuracy()\n",
        "\n",
        "\n",
        "# Steps: Training / Validation\n",
        "def train_step(x_b, y_b):\n",
        "    # Send x_b and y_b to the GPU, if available\n",
        "    x_b = x_b.to(config.device)\n",
        "    y_b = y_b.to(config.device)\n",
        "    # Generate yhat\n",
        "    yhat = model(x_b)\n",
        "    # Calculate the loss\n",
        "    loss = loss_func(yhat, y_b.long()) # Batch_Mark??\n",
        "    # Calculate gradients\n",
        "    loss.backward()\n",
        "    # Perform your update and zero out your gradients\n",
        "    opt.step()\n",
        "    opt.zero_grad()\n",
        "    # Update your accuracy metric\n",
        "    batch_acc = metric(yhat.cpu().softmax(axis=1), y_b.cpu()) # Batch_Mark?? | softmax_mark\n",
        "    # Return the loss\n",
        "    return loss\n",
        "    \n",
        "def validation_step(x_b, y_b):\n",
        "    # Send x_b and y_b to the GPU, if available\n",
        "    x_b = x_b.to(config.device)\n",
        "    y_b = y_b.to(config.device)\n",
        "    # Tell torch not to calculate gradients on the validation batch\n",
        "    with torch.no_grad():\n",
        "        # Generate yhat\n",
        "        yhat = model(x_b)\n",
        "        # Calculate the loss\n",
        "        loss = loss_func(yhat, y_b.long()) # Batch_Mark??\n",
        "    # Update your accuracy metric\n",
        "    batch_acc = metric(yhat.cpu().softmax(axis=1), y_b.cpu()) # Batch_Mark?? | softmax_mark\n",
        "    # Return the loss\n",
        "    return loss\n"
      ]
    },
    {
      "cell_type": "code",
      "execution_count": null,
      "metadata": {
        "id": "Ru0A0j49ce_I"
      },
      "outputs": [],
      "source": [
        "# opt\n",
        "# >>> change amsgrad to 'True' ?\n",
        "    # with set to true:\n",
        "    #     no significant change\\\n",
        "    # > come back to this after having worked on whatever is going wrong in general"
      ]
    },
    {
      "cell_type": "markdown",
      "metadata": {
        "id": "3VaYhptwbRM3"
      },
      "source": [
        "## Train / Valid Model"
      ]
    },
    {
      "cell_type": "code",
      "execution_count": null,
      "metadata": {
        "colab": {
          "base_uri": "https://localhost:8080/"
        },
        "id": "KjPF8YoZ5jxr",
        "outputId": "f430338d-551e-47d0-bb1b-13428039e44c"
      },
      "outputs": [
        {
          "output_type": "stream",
          "name": "stdout",
          "text": [
            "Epoch: 1, Train loss: 0.3833 Train acc: 0.8878, Valid loss: 0.1594621241092682 Valid Acc: 0.9086\n",
            "Epoch: 2, Train loss: 0.1795 Train acc: 0.9230, Valid loss: 0.1392914056777954 Valid Acc: 0.9286\n",
            "Epoch: 3, Train loss: 0.1428 Train acc: 0.9357, Valid loss: 0.11468201130628586 Valid Acc: 0.9388\n",
            "Epoch: 4, Train loss: 0.1181 Train acc: 0.9431, Valid loss: 0.0997760146856308 Valid Acc: 0.9452\n",
            "Epoch: 5, Train loss: 0.0932 Train acc: 0.9489, Valid loss: 0.09490155428647995 Valid Acc: 0.9504\n",
            "Epoch: 6, Train loss: 0.0839 Train acc: 0.9529, Valid loss: 0.09958392381668091 Valid Acc: 0.9539\n",
            "Epoch: 7, Train loss: 0.0761 Train acc: 0.9561, Valid loss: 0.09350833296775818 Valid Acc: 0.9568\n",
            "Epoch: 8, Train loss: 0.0617 Train acc: 0.9589, Valid loss: 0.09672849625349045 Valid Acc: 0.9594\n",
            "Epoch: 9, Train loss: 0.0539 Train acc: 0.9611, Valid loss: 0.08813899010419846 Valid Acc: 0.9617\n",
            "Epoch: 10, Train loss: 0.0530 Train acc: 0.9632, Valid loss: 0.08786246925592422 Valid Acc: 0.9636\n",
            "Epoch: 11, Train loss: 0.0474 Train acc: 0.9649, Valid loss: 0.08334257453680038 Valid Acc: 0.9652\n",
            "Epoch: 12, Train loss: 0.0420 Train acc: 0.9664, Valid loss: 0.0968048945069313 Valid Acc: 0.9666\n"
          ]
        }
      ],
      "source": [
        "train_losses_step = []\n",
        "train_losses = []\n",
        "valid_losses = []\n",
        "dbug_counter = 1\n",
        "for epoch in range(N_EPOCHS):\n",
        "    # Training loop\n",
        "    model.train() # Put the model in train mode\n",
        "    train_loss_epoch = 0.\n",
        "    # print(dbug_counter)\n",
        "    for x_b, y_b in train_dl:\n",
        "        dbug_counter += 1\n",
        "        # print(dbug_counter)\n",
        "        loss = train_step(x_b, y_b.int())\n",
        "        train_loss_epoch += loss\n",
        "        train_losses_step.append(loss.item())\n",
        "    \n",
        "    # Compute the train loss and accuracy for the epoch.\n",
        "    # The epoch loss is a little bit off if our final batch\n",
        "    # is a different size - we're going to ignore that for now,\n",
        "    # since higher-level libraries will solve this for us.\n",
        "    train_loss_epoch /= len(train_dl)\n",
        "    train_losses.append(train_loss_epoch.item())\n",
        "    train_acc = metric.compute()\n",
        "    \n",
        "    # Validation loop\n",
        "    model.eval() # Put the model in eval mode (affects dropout and batch norm)\n",
        "    val_loss_epoch = 0.\n",
        "    for x_b, y_b in valid_dl:\n",
        "        loss = validation_step(x_b, y_b.int())\n",
        "        val_loss_epoch += loss\n",
        "    \n",
        "    val_loss_epoch /= len(valid_dl)\n",
        "    valid_acc = metric.compute()\n",
        "    valid_losses.append(val_loss_epoch.item())\n",
        "\n",
        "    print(f\"Epoch: {epoch+1}, Train loss: {train_loss_epoch:.04f} Train acc: {float(train_acc):.04f}, Valid loss: {val_loss_epoch} Valid Acc: {float(valid_acc):.04f}\")"
      ]
    },
    {
      "cell_type": "code",
      "execution_count": null,
      "metadata": {
        "colab": {
          "base_uri": "https://localhost:8080/",
          "height": 462
        },
        "id": "Hnlh1c1SLur1",
        "outputId": "4d18026e-d452-4900-e8c1-4bf63d833cc8"
      },
      "outputs": [
        {
          "output_type": "execute_result",
          "data": {
            "text/plain": [
              "Text(0.5, 0, 'Epoch')"
            ]
          },
          "metadata": {},
          "execution_count": 31
        },
        {
          "output_type": "display_data",
          "data": {
            "text/plain": [
              "<Figure size 1440x576 with 2 Axes>"
            ],
            "image/png": "[encoded data removed]"
          },
          "metadata": {
            "needs_background": "light"
          }
        }
      ],
      "source": [
        "fig, axes = plt.subplots(ncols=2, nrows=1, figsize=(20,8))\n",
        "ax1, ax2 = axes\n",
        "ax1.plot(train_losses_step, label='Train Loss')\n",
        "ax2.plot(train_losses, label='Train Loss')\n",
        "ax2.plot(valid_losses, label='Valid Loss')\n",
        "ax1.legend()\n",
        "ax2.legend()\n",
        "ax1.set_xlabel('Step')\n",
        "ax1.set_ylabel('Cross Entropy Loss')\n",
        "ax2.set_xlabel('Epoch')"
      ]
    },
    {
      "cell_type": "code",
      "execution_count": null,
      "metadata": {
        "id": "-Y-goUHmfMAo"
      },
      "outputs": [],
      "source": [
        "def show_preds(sample=None):\n",
        "    \"\"\"\n",
        "    Shows a actuals and inferences from a random sample of the validation dataset.\n",
        "    \"\"\"\n",
        "    # Sample a few images\n",
        "    if sample is None:\n",
        "        sample = mnist_valid_scaled.sample(9)\n",
        "    # Get the sample into a format we can feed into the model\n",
        "    x_b = torch.FloatTensor(sample.loc[:, 1:].values)\n",
        "    y_b = sample.loc[:,0].values\n",
        "\n",
        "    # Make inferences on the sample\n",
        "    model.eval()\n",
        "    with torch.no_grad():\n",
        "        # Get the inferences, apply softmax to convert to predicted probabilities,\n",
        "        # and use argmax to get the index of the highest probability.\n",
        "        # This is the digit!\n",
        "        preds = model(x_b.to(config.device)).softmax(dim=-1).argmax(dim=-1).cpu().numpy()\n",
        "    \n",
        "    # Plot a 3x3 grid of digits, where the title\n",
        "    # contains the predictiona nd the actual value.\n",
        "    fig = plt.figure(figsize=(12, 12))\n",
        "    for i, (x, y, p) in enumerate(zip(x_b, y_b, preds)):\n",
        "        ax = fig.add_subplot(3, 3, 1+i)\n",
        "        ax.matshow(x.reshape(28, 28), cmap='Greys_r')\n",
        "        ax.set_title(f'Actual: {y}, Pred: {int(p)}')\n",
        "        ax.set_xticks([])\n",
        "        ax.set_yticks([])\n",
        "    fig.tight_layout()\n",
        "    plt.close()\n",
        "    return fig"
      ]
    },
    {
      "cell_type": "code",
      "execution_count": null,
      "metadata": {
        "colab": {
          "base_uri": "https://localhost:8080/",
          "height": 876
        },
        "id": "L_f4JkNyC4X7",
        "outputId": "f0287572-909d-47e3-a898-7737e0f7bd4e"
      },
      "outputs": [
        {
          "output_type": "execute_result",
          "data": {
            "text/plain": [
              "<Figure size 864x864 with 9 Axes>"
            ],
            "image/png": "[encoded data removed]"
          },
          "metadata": {},
          "execution_count": 33
        }
      ],
      "source": [
        "show_preds()"
      ]
    },
    {
      "cell_type": "code",
      "execution_count": null,
      "metadata": {
        "id": "iA7uKJcGcCoA"
      },
      "outputs": [],
      "source": [
        "from sklearn.metrics import confusion_matrix, ConfusionMatrixDisplay, classification_report"
      ]
    },
    {
      "cell_type": "code",
      "execution_count": null,
      "metadata": {
        "id": "7i3GFLl_cLeM",
        "colab": {
          "base_uri": "https://localhost:8080/"
        },
        "outputId": "d31bea8e-1ea8-4858-d5bb-fac9c5ea1ea5"
      },
      "outputs": [
        {
          "output_type": "stream",
          "name": "stderr",
          "text": [
            "/usr/local/lib/python3.7/dist-packages/torch/nn/_reduction.py:42: UserWarning: size_average and reduce args will be deprecated, please use reduction='none' instead.\n",
            "  warnings.warn(warning.format(ret))\n"
          ]
        }
      ],
      "source": [
        "probas = []\n",
        "preds = []\n",
        "losses = []\n",
        "ys = []\n",
        "model.eval()\n",
        "for x_b, y_b in valid_dl:\n",
        "    with torch.no_grad():\n",
        "        logits = model(x_b.to(config.device)).cpu()\n",
        "        _probas = logits.softmax(dim=-1).numpy()\n",
        "        _preds = _probas.argmax(axis=-1)\n",
        "        _losses = F.cross_entropy(logits, y_b.long(), reduce=False)\n",
        "    probas.append(_probas)\n",
        "    preds.append(_preds)\n",
        "    losses.append(_losses.numpy())\n",
        "    ys.append(y_b.numpy())\n",
        "probas = np.vstack(probas)\n",
        "preds = np.concatenate(preds)\n",
        "losses = np.concatenate(losses)\n",
        "ys = np.concatenate(ys)"
      ]
    },
    {
      "cell_type": "code",
      "execution_count": null,
      "metadata": {
        "id": "5n0VSjh7GprO",
        "colab": {
          "base_uri": "https://localhost:8080/",
          "height": 599
        },
        "outputId": "2680b6c6-5489-41f1-b23a-509ec2b75ab9"
      },
      "outputs": [
        {
          "output_type": "execute_result",
          "data": {
            "text/plain": [
              "<sklearn.metrics._plot.confusion_matrix.ConfusionMatrixDisplay at 0x7f1a71f68250>"
            ]
          },
          "metadata": {},
          "execution_count": 36
        },
        {
          "output_type": "display_data",
          "data": {
            "text/plain": [
              "<Figure size 720x720 with 2 Axes>"
            ],
            "image/png": "[encoded data removed]"
          },
          "metadata": {
            "needs_background": "light"
          }
        }
      ],
      "source": [
        "disp = ConfusionMatrixDisplay(confusion_matrix(ys, preds, normalize='true'), display_labels=range(20))\n",
        "cm_fig, ax = plt.subplots(figsize=(10,10))\n",
        "disp.plot(ax=ax)"
      ]
    },
    {
      "cell_type": "code",
      "execution_count": null,
      "metadata": {
        "id": "3QnFFnG-HZ43",
        "colab": {
          "base_uri": "https://localhost:8080/"
        },
        "outputId": "27330b66-e1e4-4001-c0bc-dddad870a49f"
      },
      "outputs": [
        {
          "output_type": "stream",
          "name": "stdout",
          "text": [
            "              precision    recall  f1-score   support\n",
            "\n",
            "         0.0       0.97      0.99      0.98       980\n",
            "         1.0       0.99      0.99      0.99      1135\n",
            "         2.0       0.98      0.97      0.97      1032\n",
            "         3.0       0.97      0.98      0.97      1010\n",
            "         4.0       0.97      0.97      0.97       982\n",
            "         5.0       0.98      0.97      0.98       892\n",
            "         6.0       0.98      0.98      0.98       958\n",
            "         7.0       0.97      0.97      0.97      1028\n",
            "         8.0       0.98      0.96      0.97       974\n",
            "         9.0       0.97      0.97      0.97      1009\n",
            "\n",
            "    accuracy                           0.97     10000\n",
            "   macro avg       0.97      0.97      0.97     10000\n",
            "weighted avg       0.97      0.97      0.97     10000\n",
            "\n"
          ]
        }
      ],
      "source": [
        "print(classification_report(ys, preds))"
      ]
    },
    {
      "cell_type": "markdown",
      "source": [
        "## Exercise 8.6\n",
        "What are the items with the highest losses? Are these reasonable errors for the model to make?"
      ],
      "metadata": {
        "id": "brLI1ctfReaA"
      }
    },
    {
      "cell_type": "code",
      "execution_count": null,
      "metadata": {
        "id": "1k8CKxH3Khwr",
        "colab": {
          "base_uri": "https://localhost:8080/"
        },
        "outputId": "a29069ef-f752-402d-c0c7-0af9d3c64fa0"
      },
      "outputs": [
        {
          "output_type": "execute_result",
          "data": {
            "text/plain": [
              "0       0.0\n",
              "1       0.0\n",
              "2       0.0\n",
              "3       0.0\n",
              "4       0.0\n",
              "       ... \n",
              "9995    0.0\n",
              "9996    0.0\n",
              "9997    0.0\n",
              "9998    0.0\n",
              "9999    0.0\n",
              "Name: 732, Length: 10000, dtype: float32"
            ]
          },
          "metadata": {},
          "execution_count": 38
        }
      ],
      "source": [
        "# Your code here!\n",
        "losses.argsort()\n",
        "mnist_valid_scaled[732]"
      ]
    },
    {
      "cell_type": "code",
      "source": [
        "# Mike's Solution\n",
        "top_loss_indices = losses.argsort()[::-1][:9]\n",
        "top_losses = mnist_valid_scaled.iloc[top_loss_indices]\n",
        "show_preds(top_losses)"
      ],
      "metadata": {
        "id": "HDd_KdzuK-hE"
      },
      "execution_count": null,
      "outputs": []
    },
    {
      "cell_type": "markdown",
      "source": [
        "### Code Explanation\n",
        "The code in the 1st line `[::-1]` works by calling the indices for every row of loss in descending order.\n",
        "</br>\n",
        "Wherea the code `[:9]` retreives the first 9 examples from the sorted losses.\n",
        "</br>\n",
        "In the 2nd line `iloc` uses the `top_loss_indices` to pull the `top_losses` from the scaled validation dataset. \n",
        "</br>\n",
        "Finally, calling the `show_preds` function brings up the examples and prints their images.\n"
      ],
      "metadata": {
        "id": "ilgdsEFxLqWk"
      }
    },
    {
      "cell_type": "code",
      "source": [
        "mnist_valid_scaled.head()"
      ],
      "metadata": {
        "colab": {
          "base_uri": "https://localhost:8080/",
          "height": 235
        },
        "id": "bVfwbaMANtlX",
        "outputId": "f5704bdd-74a7-42c6-bc1c-b93752af972a"
      },
      "execution_count": null,
      "outputs": [
        {
          "output_type": "execute_result",
          "data": {
            "text/plain": [
              "   0    1    2    3    4    5    6    7    8    9    ...  775  776  777  778  \\\n",
              "0  7.0  0.0  0.0  0.0  0.0  0.0  0.0  0.0  0.0  0.0  ...  0.0  0.0  0.0  0.0   \n",
              "1  2.0  0.0  0.0  0.0  0.0  0.0  0.0  0.0  0.0  0.0  ...  0.0  0.0  0.0  0.0   \n",
              "2  1.0  0.0  0.0  0.0  0.0  0.0  0.0  0.0  0.0  0.0  ...  0.0  0.0  0.0  0.0   \n",
              "3  0.0  0.0  0.0  0.0  0.0  0.0  0.0  0.0  0.0  0.0  ...  0.0  0.0  0.0  0.0   \n",
              "4  4.0  0.0  0.0  0.0  0.0  0.0  0.0  0.0  0.0  0.0  ...  0.0  0.0  0.0  0.0   \n",
              "\n",
              "   779  780  781  782  783  784  \n",
              "0  0.0  0.0  0.0  0.0  0.0  0.0  \n",
              "1  0.0  0.0  0.0  0.0  0.0  0.0  \n",
              "2  0.0  0.0  0.0  0.0  0.0  0.0  \n",
              "3  0.0  0.0  0.0  0.0  0.0  0.0  \n",
              "4  0.0  0.0  0.0  0.0  0.0  0.0  \n",
              "\n",
              "[5 rows x 785 columns]"
            ],
            "text/html": [
              "\n",
              "  <div id=\"df-359330de-1d69-46d2-a158-664122c422b1\">\n",
              "    <div class=\"colab-df-container\">\n",
              "      <div>\n",
              "<style scoped>\n",
              "    .dataframe tbody tr th:only-of-type {\n",
              "        vertical-align: middle;\n",
              "    }\n",
              "\n",
              "    .dataframe tbody tr th {\n",
              "        vertical-align: top;\n",
              "    }\n",
              "\n",
              "    .dataframe thead th {\n",
              "        text-align: right;\n",
              "    }\n",
              "</style>\n",
              "<table border=\"1\" class=\"dataframe\">\n",
              "  <thead>\n",
              "    <tr style=\"text-align: right;\">\n",
              "      <th></th>\n",
              "      <th>0</th>\n",
              "      <th>1</th>\n",
              "      <th>2</th>\n",
              "      <th>3</th>\n",
              "      <th>4</th>\n",
              "      <th>5</th>\n",
              "      <th>6</th>\n",
              "      <th>7</th>\n",
              "      <th>8</th>\n",
              "      <th>9</th>\n",
              "      <th>...</th>\n",
              "      <th>775</th>\n",
              "      <th>776</th>\n",
              "      <th>777</th>\n",
              "      <th>778</th>\n",
              "      <th>779</th>\n",
              "      <th>780</th>\n",
              "      <th>781</th>\n",
              "      <th>782</th>\n",
              "      <th>783</th>\n",
              "      <th>784</th>\n",
              "    </tr>\n",
              "  </thead>\n",
              "  <tbody>\n",
              "    <tr>\n",
              "      <th>0</th>\n",
              "      <td>7.0</td>\n",
              "      <td>0.0</td>\n",
              "      <td>0.0</td>\n",
              "      <td>0.0</td>\n",
              "      <td>0.0</td>\n",
              "      <td>0.0</td>\n",
              "      <td>0.0</td>\n",
              "      <td>0.0</td>\n",
              "      <td>0.0</td>\n",
              "      <td>0.0</td>\n",
              "      <td>...</td>\n",
              "      <td>0.0</td>\n",
              "      <td>0.0</td>\n",
              "      <td>0.0</td>\n",
              "      <td>0.0</td>\n",
              "      <td>0.0</td>\n",
              "      <td>0.0</td>\n",
              "      <td>0.0</td>\n",
              "      <td>0.0</td>\n",
              "      <td>0.0</td>\n",
              "      <td>0.0</td>\n",
              "    </tr>\n",
              "    <tr>\n",
              "      <th>1</th>\n",
              "      <td>2.0</td>\n",
              "      <td>0.0</td>\n",
              "      <td>0.0</td>\n",
              "      <td>0.0</td>\n",
              "      <td>0.0</td>\n",
              "      <td>0.0</td>\n",
              "      <td>0.0</td>\n",
              "      <td>0.0</td>\n",
              "      <td>0.0</td>\n",
              "      <td>0.0</td>\n",
              "      <td>...</td>\n",
              "      <td>0.0</td>\n",
              "      <td>0.0</td>\n",
              "      <td>0.0</td>\n",
              "      <td>0.0</td>\n",
              "      <td>0.0</td>\n",
              "      <td>0.0</td>\n",
              "      <td>0.0</td>\n",
              "      <td>0.0</td>\n",
              "      <td>0.0</td>\n",
              "      <td>0.0</td>\n",
              "    </tr>\n",
              "    <tr>\n",
              "      <th>2</th>\n",
              "      <td>1.0</td>\n",
              "      <td>0.0</td>\n",
              "      <td>0.0</td>\n",
              "      <td>0.0</td>\n",
              "      <td>0.0</td>\n",
              "      <td>0.0</td>\n",
              "      <td>0.0</td>\n",
              "      <td>0.0</td>\n",
              "      <td>0.0</td>\n",
              "      <td>0.0</td>\n",
              "      <td>...</td>\n",
              "      <td>0.0</td>\n",
              "      <td>0.0</td>\n",
              "      <td>0.0</td>\n",
              "      <td>0.0</td>\n",
              "      <td>0.0</td>\n",
              "      <td>0.0</td>\n",
              "      <td>0.0</td>\n",
              "      <td>0.0</td>\n",
              "      <td>0.0</td>\n",
              "      <td>0.0</td>\n",
              "    </tr>\n",
              "    <tr>\n",
              "      <th>3</th>\n",
              "      <td>0.0</td>\n",
              "      <td>0.0</td>\n",
              "      <td>0.0</td>\n",
              "      <td>0.0</td>\n",
              "      <td>0.0</td>\n",
              "      <td>0.0</td>\n",
              "      <td>0.0</td>\n",
              "      <td>0.0</td>\n",
              "      <td>0.0</td>\n",
              "      <td>0.0</td>\n",
              "      <td>...</td>\n",
              "      <td>0.0</td>\n",
              "      <td>0.0</td>\n",
              "      <td>0.0</td>\n",
              "      <td>0.0</td>\n",
              "      <td>0.0</td>\n",
              "      <td>0.0</td>\n",
              "      <td>0.0</td>\n",
              "      <td>0.0</td>\n",
              "      <td>0.0</td>\n",
              "      <td>0.0</td>\n",
              "    </tr>\n",
              "    <tr>\n",
              "      <th>4</th>\n",
              "      <td>4.0</td>\n",
              "      <td>0.0</td>\n",
              "      <td>0.0</td>\n",
              "      <td>0.0</td>\n",
              "      <td>0.0</td>\n",
              "      <td>0.0</td>\n",
              "      <td>0.0</td>\n",
              "      <td>0.0</td>\n",
              "      <td>0.0</td>\n",
              "      <td>0.0</td>\n",
              "      <td>...</td>\n",
              "      <td>0.0</td>\n",
              "      <td>0.0</td>\n",
              "      <td>0.0</td>\n",
              "      <td>0.0</td>\n",
              "      <td>0.0</td>\n",
              "      <td>0.0</td>\n",
              "      <td>0.0</td>\n",
              "      <td>0.0</td>\n",
              "      <td>0.0</td>\n",
              "      <td>0.0</td>\n",
              "    </tr>\n",
              "  </tbody>\n",
              "</table>\n",
              "<p>5 rows × 785 columns</p>\n",
              "</div>\n",
              "      <button class=\"colab-df-convert\" onclick=\"convertToInteractive('df-359330de-1d69-46d2-a158-664122c422b1')\"\n",
              "              title=\"Convert this dataframe to an interactive table.\"\n",
              "              style=\"display:none;\">\n",
              "        \n",
              "  <svg xmlns=\"http://www.w3.org/2000/svg\" height=\"24px\"viewBox=\"0 0 24 24\"\n",
              "       width=\"24px\">\n",
              "    <path d=\"M0 0h24v24H0V0z\" fill=\"none\"/>\n",
              "    <path d=\"M18.56 5.44l.94 2.06.94-2.06 2.06-.94-2.06-.94-.94-2.06-.94 2.06-2.06.94zm-11 1L8.5 8.5l.94-2.06 2.06-.94-2.06-.94L8.5 2.5l-.94 2.06-2.06.94zm10 10l.94 2.06.94-2.06 2.06-.94-2.06-.94-.94-2.06-.94 2.06-2.06.94z\"/><path d=\"M17.41 7.96l-1.37-1.37c-.4-.4-.92-.59-1.43-.59-.52 0-1.04.2-1.43.59L10.3 9.45l-7.72 7.72c-.78.78-.78 2.05 0 2.83L4 21.41c.39.39.9.59 1.41.59.51 0 1.02-.2 1.41-.59l7.78-7.78 2.81-2.81c.8-.78.8-2.07 0-2.86zM5.41 20L4 18.59l7.72-7.72 1.47 1.35L5.41 20z\"/>\n",
              "  </svg>\n",
              "      </button>\n",
              "      \n",
              "  <style>\n",
              "    .colab-df-container {\n",
              "      display:flex;\n",
              "      flex-wrap:wrap;\n",
              "      gap: 12px;\n",
              "    }\n",
              "\n",
              "    .colab-df-convert {\n",
              "      background-color: #E8F0FE;\n",
              "      border: none;\n",
              "      border-radius: 50%;\n",
              "      cursor: pointer;\n",
              "      display: none;\n",
              "      fill: #1967D2;\n",
              "      height: 32px;\n",
              "      padding: 0 0 0 0;\n",
              "      width: 32px;\n",
              "    }\n",
              "\n",
              "    .colab-df-convert:hover {\n",
              "      background-color: #E2EBFA;\n",
              "      box-shadow: 0px 1px 2px rgba(60, 64, 67, 0.3), 0px 1px 3px 1px rgba(60, 64, 67, 0.15);\n",
              "      fill: #174EA6;\n",
              "    }\n",
              "\n",
              "    [theme=dark] .colab-df-convert {\n",
              "      background-color: #3B4455;\n",
              "      fill: #D2E3FC;\n",
              "    }\n",
              "\n",
              "    [theme=dark] .colab-df-convert:hover {\n",
              "      background-color: #434B5C;\n",
              "      box-shadow: 0px 1px 3px 1px rgba(0, 0, 0, 0.15);\n",
              "      filter: drop-shadow(0px 1px 2px rgba(0, 0, 0, 0.3));\n",
              "      fill: #FFFFFF;\n",
              "    }\n",
              "  </style>\n",
              "\n",
              "      <script>\n",
              "        const buttonEl =\n",
              "          document.querySelector('#df-359330de-1d69-46d2-a158-664122c422b1 button.colab-df-convert');\n",
              "        buttonEl.style.display =\n",
              "          google.colab.kernel.accessAllowed ? 'block' : 'none';\n",
              "\n",
              "        async function convertToInteractive(key) {\n",
              "          const element = document.querySelector('#df-359330de-1d69-46d2-a158-664122c422b1');\n",
              "          const dataTable =\n",
              "            await google.colab.kernel.invokeFunction('convertToInteractive',\n",
              "                                                     [key], {});\n",
              "          if (!dataTable) return;\n",
              "\n",
              "          const docLinkHtml = 'Like what you see? Visit the ' +\n",
              "            '<a target=\"_blank\" href=https://colab.research.google.com/notebooks/data_table.ipynb>data table notebook</a>'\n",
              "            + ' to learn more about interactive tables.';\n",
              "          element.innerHTML = '';\n",
              "          dataTable['output_type'] = 'display_data';\n",
              "          await google.colab.output.renderOutput(dataTable, element);\n",
              "          const docLink = document.createElement('div');\n",
              "          docLink.innerHTML = docLinkHtml;\n",
              "          element.appendChild(docLink);\n",
              "        }\n",
              "      </script>\n",
              "    </div>\n",
              "  </div>\n",
              "  "
            ]
          },
          "metadata": {},
          "execution_count": 47
        }
      ]
    },
    {
      "cell_type": "markdown",
      "source": [
        "## Extras / Scratch"
      ],
      "metadata": {
        "id": "ffwX2zJeLey_"
      }
    },
    {
      "cell_type": "code",
      "execution_count": null,
      "metadata": {
        "id": "8aZCjBKEL3Oy"
      },
      "outputs": [],
      "source": [
        "# Samuel's\n",
        "\n",
        "def show_preds(sample=None, sort=False):\n",
        "    \"\"\"\n",
        "    Shows a actuals and inferences from a random sample of the validation dataset.\n",
        "    \"\"\"\n",
        "    # Sample a few images\n",
        "    if sort is True:\n",
        "        sorted_losses =losses.argsort()\n",
        "        print(sorted_losses)\n",
        "\n",
        "    if sort is False:\n",
        "        if sample is None:\n",
        "            sample = mnist_valid_scaled.sample(9)\n",
        "\n",
        "    # Get the sample into a format we can feed into the model\n",
        "    x_b = torch.FloatTensor(sample.loc[:, 1:].values)\n",
        "    y_b = sample.loc[:,0].values\n",
        "\n",
        "    # Make inferences on the sample\n",
        "    model.eval()\n",
        "    with torch.no_grad():\n",
        "        # Get the inferences, apply softmax to convert to predicted probabilities,\n",
        "        # and use argmax to get the index of the highest probability.\n",
        "        # This is the digit!\n",
        "        preds = model(x_b.to(config.device)).softmax(dim=-1).argmax(dim=-1).cpu().numpy()\n",
        "    \n",
        "    # Plot a 3x3 grid of digits, where the title\n",
        "    # contains the predictiona nd the actual value.\n",
        "    fig = plt.figure(figsize=(12, 12))\n",
        "    for i, (x, y, p) in enumerate(zip(x_b, y_b, preds)):\n",
        "        ax = fig.add_subplot(3, 3, 1+i)\n",
        "        ax.matshow(x.reshape(28, 28), cmap='Greys_r')\n",
        "        ax.set_title(f'Actual: {y}, Pred: {int(p)}')\n",
        "        ax.set_xticks([])\n",
        "        ax.set_yticks([])\n",
        "    fig.tight_layout()\n",
        "    plt.close()\n",
        "    return fig"
      ]
    },
    {
      "cell_type": "code",
      "source": [
        "tensor_ex = torch.tensor([[1.5, 0.8, -0.7, 0.5, -1],\n",
        "                          [1.78, 0.6, 0.134, -0.6, -0.8]])"
      ],
      "metadata": {
        "id": "GV4HfwoIhZ05"
      },
      "execution_count": null,
      "outputs": []
    },
    {
      "cell_type": "code",
      "source": [
        "tensor_ex[0,:].softmax(dim=0)"
      ],
      "metadata": {
        "colab": {
          "base_uri": "https://localhost:8080/"
        },
        "id": "V1DJBLUimVr0",
        "outputId": "a7e5afc3-6efa-4ddb-ec6e-586745df1baf"
      },
      "execution_count": null,
      "outputs": [
        {
          "output_type": "execute_result",
          "data": {
            "text/plain": [
              "tensor([0.4861, 0.2414, 0.0539, 0.1788, 0.0399])"
            ]
          },
          "metadata": {},
          "execution_count": 68
        }
      ]
    },
    {
      "cell_type": "code",
      "source": [
        "tensor_ex.softmax(dim=1)"
      ],
      "metadata": {
        "colab": {
          "base_uri": "https://localhost:8080/"
        },
        "id": "EJ_Xj2shoQAi",
        "outputId": "03cf56c4-029d-4a95-96ee-e776ff744167"
      },
      "execution_count": null,
      "outputs": [
        {
          "output_type": "execute_result",
          "data": {
            "text/plain": [
              "tensor([[0.4861, 0.2414, 0.0539, 0.1788, 0.0399],\n",
              "        [0.5824, 0.1939, 0.1176, 0.0584, 0.0478]])"
            ]
          },
          "metadata": {},
          "execution_count": 71
        }
      ]
    },
    {
      "cell_type": "code",
      "source": [
        "tensor_ex.numpy()[0,:]"
      ],
      "metadata": {
        "colab": {
          "base_uri": "https://localhost:8080/"
        },
        "id": "e_J0RMBEoXkg",
        "outputId": "c5c0b30c-38c2-49c6-9137-08df7f272ac0"
      },
      "execution_count": null,
      "outputs": [
        {
          "output_type": "execute_result",
          "data": {
            "text/plain": [
              "array([ 1.5,  0.8, -0.7,  0.5, -1. ], dtype=float32)"
            ]
          },
          "metadata": {},
          "execution_count": 74
        }
      ]
    },
    {
      "cell_type": "code",
      "source": [
        "tensor_ex.sum(dim = 1)"
      ],
      "metadata": {
        "colab": {
          "base_uri": "https://localhost:8080/"
        },
        "id": "nlAM7DWxpO4_",
        "outputId": "9a9c1bfc-22f1-4ff3-ef06-2763e6fa051b"
      },
      "execution_count": null,
      "outputs": [
        {
          "output_type": "execute_result",
          "data": {
            "text/plain": [
              "tensor([1.1000, 1.1140])"
            ]
          },
          "metadata": {},
          "execution_count": 78
        }
      ]
    },
    {
      "cell_type": "code",
      "source": [
        "tensor_ex.numpy().sum(axis=1)"
      ],
      "metadata": {
        "colab": {
          "base_uri": "https://localhost:8080/"
        },
        "id": "g3oJW4zkpR12",
        "outputId": "42c8d440-186a-4b55-dd13-20f93e1dd6a0"
      },
      "execution_count": null,
      "outputs": [
        {
          "output_type": "execute_result",
          "data": {
            "text/plain": [
              "array([1.0999999, 1.       ], dtype=float32)"
            ]
          },
          "metadata": {},
          "execution_count": 76
        }
      ]
    },
    {
      "cell_type": "code",
      "source": [
        "tensor_2"
      ],
      "metadata": {
        "colab": {
          "base_uri": "https://localhost:8080/"
        },
        "id": "NzybZHTZqe5U",
        "outputId": "a8d5ba3b-9124-41ee-915d-9b0ed4d04387"
      },
      "execution_count": null,
      "outputs": [
        {
          "output_type": "execute_result",
          "data": {
            "text/plain": [
              "tensor([[[ 0,  1,  2],\n",
              "         [ 3,  4,  5],\n",
              "         [ 6,  7,  8]],\n",
              "\n",
              "        [[ 9, 10, 11],\n",
              "         [12, 13, 14],\n",
              "         [15, 16, 17]],\n",
              "\n",
              "        [[18, 19, 20],\n",
              "         [21, 22, 23],\n",
              "         [24, 25, 26]]])"
            ]
          },
          "metadata": {},
          "execution_count": 92
        }
      ]
    },
    {
      "cell_type": "code",
      "source": [
        "tensor_2 =torch.arange(0,27,1).reshape(3,3,3)"
      ],
      "metadata": {
        "id": "MhEa5fyxpslF"
      },
      "execution_count": null,
      "outputs": []
    },
    {
      "cell_type": "code",
      "source": [
        "tensor_2.ndim"
      ],
      "metadata": {
        "colab": {
          "base_uri": "https://localhost:8080/"
        },
        "id": "xEjBz6xFsJPf",
        "outputId": "a6cc462e-6bb3-48d6-fc6e-e6fae8ba4402"
      },
      "execution_count": null,
      "outputs": [
        {
          "output_type": "execute_result",
          "data": {
            "text/plain": [
              "3"
            ]
          },
          "metadata": {},
          "execution_count": 93
        }
      ]
    },
    {
      "cell_type": "code",
      "source": [
        "tensor_2.sum(dim = 0)"
      ],
      "metadata": {
        "colab": {
          "base_uri": "https://localhost:8080/"
        },
        "id": "c49HUH1ZrjMt",
        "outputId": "ce38b609-4a8a-4f66-bff4-fcacb0807f53"
      },
      "execution_count": null,
      "outputs": [
        {
          "output_type": "execute_result",
          "data": {
            "text/plain": [
              "tensor([[27, 30, 33],\n",
              "        [36, 39, 42],\n",
              "        [45, 48, 51]])"
            ]
          },
          "metadata": {},
          "execution_count": 96
        }
      ]
    },
    {
      "cell_type": "code",
      "source": [
        "tensor_2[:,:,2]"
      ],
      "metadata": {
        "colab": {
          "base_uri": "https://localhost:8080/"
        },
        "id": "dkaFePKSsUNz",
        "outputId": "7c2d7d11-e806-4e70-87ee-aaa599dd1b7e"
      },
      "execution_count": null,
      "outputs": [
        {
          "output_type": "execute_result",
          "data": {
            "text/plain": [
              "tensor([[ 2,  5,  8],\n",
              "        [11, 14, 17],\n",
              "        [20, 23, 26]])"
            ]
          },
          "metadata": {},
          "execution_count": 100
        }
      ]
    },
    {
      "cell_type": "code",
      "source": [],
      "metadata": {
        "id": "-ug4AAUqtDIU"
      },
      "execution_count": null,
      "outputs": []
    }
  ],
  "metadata": {
    "accelerator": "GPU",
    "colab": {
      "collapsed_sections": [],
      "name": "DL 8: Introduction_to_Classification.ipynb",
      "provenance": [],
      "include_colab_link": true
    },
    "gpuClass": "standard",
    "kernelspec": {
      "display_name": "Python 3",
      "language": "python",
      "name": "python3"
    },
    "language_info": {
      "codemirror_mode": {
        "name": "ipython",
        "version": 3
      },
      "file_extension": ".py",
      "mimetype": "text/x-python",
      "name": "python",
      "nbconvert_exporter": "python",
      "pygments_lexer": "ipython3",
      "version": "3.9.4"
    }
  },
  "nbformat": 4,
  "nbformat_minor": 0
}