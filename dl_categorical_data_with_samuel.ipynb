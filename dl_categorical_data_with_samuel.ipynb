{
  "nbformat": 4,
  "nbformat_minor": 0,
  "metadata": {
    "colab": {
      "name": "dl_categorical_data_with_samuel.ipynb",
      "provenance": [],
      "include_colab_link": true
    },
    "kernelspec": {
      "name": "python3",
      "display_name": "Python 3"
    },
    "language_info": {
      "name": "python"
    }
  },
  "cells": [
    {
      "cell_type": "markdown",
      "metadata": {
        "id": "view-in-github",
        "colab_type": "text"
      },
      "source": [
        "<a href=\"https://colab.research.google.com/github/SamuelMiller413/Deep-Learning-Course/blob/main/dl_categorical_data_with_samuel.ipynb\" target=\"_parent\"><img src=\"https://colab.research.google.com/assets/colab-badge.svg\" alt=\"Open In Colab\"/></a>"
      ]
    },
    {
      "cell_type": "code",
      "execution_count": 1,
      "metadata": {
        "id": "yYjv0E7qwy7B"
      },
      "outputs": [],
      "source": [
        "import torch\n",
        "from torch import nn\n",
        "import torch.nn.functional as F"
      ]
    },
    {
      "cell_type": "code",
      "source": [
        "N_CATEGORICAL_COLUMNS = 1\n",
        "N_ROWS = 1000\n",
        "N_CATEGORIES_PER_COLUMN = 5\n",
        "N_LABELS = 3\n",
        "EMBED_DIM = 16"
      ],
      "metadata": {
        "id": "gBmp2CrGxCCs"
      },
      "execution_count": 2,
      "outputs": []
    },
    {
      "cell_type": "code",
      "source": [
        "data = torch.randint(0, N_CATEGORIES_PER_COLUMN, (N_ROWS, N_CATEGORICAL_COLUMNS)).squeeze()"
      ],
      "metadata": {
        "id": "IdiMHb9kxbJK"
      },
      "execution_count": 3,
      "outputs": []
    },
    {
      "cell_type": "code",
      "source": [
        "data[:5] # Think about this as category-encoded but not one-hot encoded"
      ],
      "metadata": {
        "colab": {
          "base_uri": "https://localhost:8080/"
        },
        "id": "9VzBO0NUx0mr",
        "outputId": "7006731e-acf6-4307-9f4e-3e27d9d1961f"
      },
      "execution_count": 4,
      "outputs": [
        {
          "output_type": "execute_result",
          "data": {
            "text/plain": [
              "tensor([1, 4, 1, 3, 0])"
            ]
          },
          "metadata": {},
          "execution_count": 4
        }
      ]
    },
    {
      "cell_type": "code",
      "source": [
        "emb = nn.Embedding(N_CATEGORIES_PER_COLUMN, EMBED_DIM)"
      ],
      "metadata": {
        "id": "0mLzh1pax92D"
      },
      "execution_count": 5,
      "outputs": []
    },
    {
      "cell_type": "code",
      "source": [
        "emb(data)"
      ],
      "metadata": {
        "colab": {
          "base_uri": "https://localhost:8080/"
        },
        "id": "tG2ChBQmzdBq",
        "outputId": "c14e0756-dccb-4f02-8baf-ac3c92cd2b3f"
      },
      "execution_count": 6,
      "outputs": [
        {
          "output_type": "execute_result",
          "data": {
            "text/plain": [
              "tensor([[ 0.1319, -0.3124,  0.3684,  ..., -0.9350, -1.2497, -1.4622],\n",
              "        [-0.1704, -0.7308,  0.6043,  ..., -0.3238,  0.2762, -0.1124],\n",
              "        [ 0.1319, -0.3124,  0.3684,  ..., -0.9350, -1.2497, -1.4622],\n",
              "        ...,\n",
              "        [ 1.7571, -1.2855, -1.0835,  ..., -1.1242, -0.9603, -0.1308],\n",
              "        [ 0.1319, -0.3124,  0.3684,  ..., -0.9350, -1.2497, -1.4622],\n",
              "        [ 0.1319, -0.3124,  0.3684,  ..., -0.9350, -1.2497, -1.4622]],\n",
              "       grad_fn=<EmbeddingBackward0>)"
            ]
          },
          "metadata": {},
          "execution_count": 6
        }
      ]
    },
    {
      "cell_type": "code",
      "source": [
        "emb.weight.data.shape\n",
        "# we are projecting from 5 categories -> 16 continuous values"
      ],
      "metadata": {
        "colab": {
          "base_uri": "https://localhost:8080/"
        },
        "id": "jpSQMiMsze2H",
        "outputId": "c6867035-0110-48fe-ad44-ad3b8c386b56"
      },
      "execution_count": 7,
      "outputs": [
        {
          "output_type": "execute_result",
          "data": {
            "text/plain": [
              "torch.Size([5, 16])"
            ]
          },
          "metadata": {},
          "execution_count": 7
        }
      ]
    },
    {
      "cell_type": "code",
      "source": [
        "# if the category for a row is 4, embedding is doing the following:\n",
        "emb.weight.data[4,:]"
      ],
      "metadata": {
        "colab": {
          "base_uri": "https://localhost:8080/"
        },
        "id": "IJ5AwGaezyhj",
        "outputId": "e8666b56-aebb-4a5b-b1c9-48c2ab869db5"
      },
      "execution_count": 8,
      "outputs": [
        {
          "output_type": "execute_result",
          "data": {
            "text/plain": [
              "tensor([-0.1704, -0.7308,  0.6043, -0.0252, -0.8174, -0.4566, -1.7945, -0.3627,\n",
              "         0.9852, -1.7076,  0.2936, -0.9353, -0.8309, -0.3238,  0.2762, -0.1124])"
            ]
          },
          "metadata": {},
          "execution_count": 8
        }
      ]
    },
    {
      "cell_type": "code",
      "source": [
        "emb.weight.data"
      ],
      "metadata": {
        "colab": {
          "base_uri": "https://localhost:8080/"
        },
        "id": "9zYxqVktNe0j",
        "outputId": "5f515198-8dcd-49bc-85c4-ae646246ace5"
      },
      "execution_count": 9,
      "outputs": [
        {
          "output_type": "execute_result",
          "data": {
            "text/plain": [
              "tensor([[-1.0977, -0.6235,  1.5395, -0.1441,  0.4608,  0.4374, -1.1307,  0.4807,\n",
              "          0.0903,  0.3259,  0.5581, -0.7109,  0.7812, -0.8843,  0.1762,  0.0488],\n",
              "        [ 0.1319, -0.3124,  0.3684,  1.0828,  2.1708,  0.7908, -0.6787, -0.7855,\n",
              "         -1.6660, -1.6110,  0.7266, -0.3517, -0.2995, -0.9350, -1.2497, -1.4622],\n",
              "        [ 1.7571, -1.2855, -1.0835, -0.1057, -1.1563, -0.7365, -1.2056, -0.6754,\n",
              "          0.8086,  0.3433, -0.0413,  0.8291, -0.4298, -1.1242, -0.9603, -0.1308],\n",
              "        [-2.2820, -0.3605, -1.6398, -0.5697,  0.9269,  0.5104, -0.1483, -0.2359,\n",
              "         -0.1281,  0.2689,  1.9507,  0.1574,  2.1857,  0.4530,  0.3748,  1.8512],\n",
              "        [-0.1704, -0.7308,  0.6043, -0.0252, -0.8174, -0.4566, -1.7945, -0.3627,\n",
              "          0.9852, -1.7076,  0.2936, -0.9353, -0.8309, -0.3238,  0.2762, -0.1124]])"
            ]
          },
          "metadata": {},
          "execution_count": 9
        }
      ]
    },
    {
      "cell_type": "code",
      "source": [
        "# If we did it the slow way with matmul, it would look like this...\n",
        "torch.tensor([0,0,0,1,0]).float()@emb.weight.data"
      ],
      "metadata": {
        "colab": {
          "base_uri": "https://localhost:8080/"
        },
        "id": "JY3B-lOd0HZ0",
        "outputId": "b5ffce00-d442-4074-bff8-76e1c0755d36"
      },
      "execution_count": 11,
      "outputs": [
        {
          "output_type": "execute_result",
          "data": {
            "text/plain": [
              "tensor([-2.2820, -0.3605, -1.6398, -0.5697,  0.9269,  0.5104, -0.1483, -0.2359,\n",
              "        -0.1281,  0.2689,  1.9507,  0.1574,  2.1857,  0.4530,  0.3748,  1.8512])"
            ]
          },
          "metadata": {},
          "execution_count": 11
        }
      ]
    },
    {
      "cell_type": "code",
      "source": [
        "data = torch.randint(0, N_CATEGORIES_PER_COLUMN, (N_ROWS, 3))"
      ],
      "metadata": {
        "id": "Qxi-Exs40iB0"
      },
      "execution_count": 12,
      "outputs": []
    },
    {
      "cell_type": "code",
      "source": [
        "targets = torch.randn(N_ROWS)"
      ],
      "metadata": {
        "id": "X_bv9kij13k1"
      },
      "execution_count": 13,
      "outputs": []
    },
    {
      "cell_type": "code",
      "source": [
        "data.shape"
      ],
      "metadata": {
        "colab": {
          "base_uri": "https://localhost:8080/"
        },
        "id": "tUsaAIpp08e2",
        "outputId": "a28bfe46-b05a-4672-e1e7-c7aa6dfd23ed"
      },
      "execution_count": 14,
      "outputs": [
        {
          "output_type": "execute_result",
          "data": {
            "text/plain": [
              "torch.Size([1000, 3])"
            ]
          },
          "metadata": {},
          "execution_count": 14
        }
      ]
    },
    {
      "cell_type": "code",
      "source": [
        "# we need to tell our module how many catego\n",
        "categories_dict = {\n",
        "    0:5,\n",
        "    1:5,\n",
        "    2:5\n",
        "}"
      ],
      "metadata": {
        "id": "gFRiVA_I1VCo"
      },
      "execution_count": 15,
      "outputs": []
    },
    {
      "cell_type": "code",
      "source": [
        "class MultiCategoryEmbedding(nn.Module):\n",
        "    def __init__(self):\n",
        "        super().__init__()\n",
        "        self.emb_1 = nn.Embedding(5, EMBED_DIM)\n",
        "        self.emb_2 = nn.Embedding(5, EMBED_DIM)\n",
        "        self.emb_3 = nn.Embedding(5, EMBED_DIM)\n",
        "        # if you have continuous data, create a single input for those:\n",
        "        # self.lin_input = nn.Linear(n_continuous_input_features, hidden_dim)\n",
        "\n",
        "        # Concat embeddings\n",
        "        self.proj = nn.Linear(EMBED_DIM * 3, 1)\n",
        "        # self.proj = nn.Linear(EMBED_DIM * 3 + hidden_dim, 1)\n",
        "        # If you want to add embeddings, do this:\n",
        "        # self.proj = nn.Linear(EMBED_DIM, 1)\n",
        "        # with additional continuous features, you'd need to concatenate (or add)\n",
        "        # them to your embeddings\n",
        "\n",
        "    def forward(self, x):\n",
        "        x1, x2, x3 = x[:, 0], x[:,1], x[:,2]\n",
        "        # x1, x2, x3 = x\n",
        "        x1 = self.emb_1(x1)\n",
        "        x2 = self.emb_2(x2)\n",
        "        x3 = self.emb_3(x3)\n",
        "        # lin_input = self.lin_input(lin_features) # if we had continuous input\n",
        "        cat = torch.cat((x1, x2, x3), dim=-1)\n",
        "        # cat = torch.cat((x1, x2, x3, lin_input), dim=-1) # if we had continuous inputs\n",
        "        cat = F.relu(cat)\n",
        "        out = self.proj(cat)\n",
        "        return out\n",
        "\n"
      ],
      "metadata": {
        "id": "djP8-gL-09Lq"
      },
      "execution_count": 16,
      "outputs": []
    },
    {
      "cell_type": "code",
      "source": [
        "model = MultiCategoryEmbedding()"
      ],
      "metadata": {
        "id": "QOsNR1vF2m5N"
      },
      "execution_count": 17,
      "outputs": []
    },
    {
      "cell_type": "code",
      "source": [
        "class DummyDataset(torch.utils.data.Dataset):\n",
        "    def __init__(self, x, y):\n",
        "        super().__init__()\n",
        "        self.x = x\n",
        "        self.y = y\n",
        "\n",
        "    def __len__(self):\n",
        "        return len(self.x)\n",
        "    def __getitem__(self, idx):\n",
        "        return self.x[idx, :], self.y[idx]"
      ],
      "metadata": {
        "id": "57mzbh9q3PRt"
      },
      "execution_count": 18,
      "outputs": []
    },
    {
      "cell_type": "code",
      "source": [
        "ds = DummyDataset(data, targets)\n",
        "dl = torch.utils.data.DataLoader(ds, batch_size=8)"
      ],
      "metadata": {
        "id": "FGbvYExF3qGC"
      },
      "execution_count": 19,
      "outputs": []
    },
    {
      "cell_type": "code",
      "source": [
        ""
      ],
      "metadata": {
        "id": "RPLvGM_F4NpL"
      },
      "execution_count": 19,
      "outputs": []
    },
    {
      "cell_type": "code",
      "source": [
        "x, y = next(iter(dl))"
      ],
      "metadata": {
        "id": "w9Sc7UMq3w_L"
      },
      "execution_count": 20,
      "outputs": []
    },
    {
      "cell_type": "code",
      "source": [
        "x"
      ],
      "metadata": {
        "colab": {
          "base_uri": "https://localhost:8080/"
        },
        "id": "54lHeHM_4Eta",
        "outputId": "ec52f8ff-466c-4ecc-aee0-0d8af6b7818b"
      },
      "execution_count": 21,
      "outputs": [
        {
          "output_type": "execute_result",
          "data": {
            "text/plain": [
              "tensor([[3, 4, 4],\n",
              "        [0, 1, 4],\n",
              "        [0, 2, 0],\n",
              "        [4, 1, 2],\n",
              "        [4, 3, 4],\n",
              "        [2, 4, 1],\n",
              "        [0, 1, 4],\n",
              "        [1, 0, 3]])"
            ]
          },
          "metadata": {},
          "execution_count": 21
        }
      ]
    },
    {
      "cell_type": "code",
      "source": [
        "outputs = model(x)\n",
        "outputs"
      ],
      "metadata": {
        "colab": {
          "base_uri": "https://localhost:8080/"
        },
        "id": "KITNaz5v23eL",
        "outputId": "c4bd924d-7b80-4326-c422-7ba1c25d1249"
      },
      "execution_count": 22,
      "outputs": [
        {
          "output_type": "execute_result",
          "data": {
            "text/plain": [
              "tensor([[ 0.1831],\n",
              "        [ 0.2394],\n",
              "        [-0.6227],\n",
              "        [ 0.7101],\n",
              "        [ 0.5873],\n",
              "        [ 0.2400],\n",
              "        [ 0.2394],\n",
              "        [ 0.4283]], grad_fn=<AddmmBackward0>)"
            ]
          },
          "metadata": {},
          "execution_count": 22
        }
      ]
    },
    {
      "cell_type": "code",
      "source": [
        "y"
      ],
      "metadata": {
        "colab": {
          "base_uri": "https://localhost:8080/"
        },
        "id": "qXoFaJhK24Qm",
        "outputId": "49dc37f9-238e-476e-d933-8c1f57dbcde4"
      },
      "execution_count": 24,
      "outputs": [
        {
          "output_type": "execute_result",
          "data": {
            "text/plain": [
              "tensor([ 1.3269,  0.2697, -0.9768,  0.3092,  0.2830,  1.3253, -0.8072, -0.0094])"
            ]
          },
          "metadata": {},
          "execution_count": 24
        }
      ]
    },
    {
      "cell_type": "code",
      "source": [
        "loss = F.mse_loss(outputs, y)"
      ],
      "metadata": {
        "colab": {
          "base_uri": "https://localhost:8080/"
        },
        "id": "SI58-Hgn4Xgd",
        "outputId": "6fd9c910-8b91-4fa6-ee4c-e653ebcae780"
      },
      "execution_count": 25,
      "outputs": [
        {
          "output_type": "stream",
          "name": "stderr",
          "text": [
            "/usr/local/lib/python3.7/dist-packages/ipykernel_launcher.py:1: UserWarning: Using a target size (torch.Size([8])) that is different to the input size (torch.Size([8, 1])). This will likely lead to incorrect results due to broadcasting. Please ensure they have the same size.\n",
            "  \"\"\"Entry point for launching an IPython kernel.\n"
          ]
        }
      ]
    },
    {
      "cell_type": "code",
      "source": [
        "loss.backward()"
      ],
      "metadata": {
        "id": "TwR8MkFR4eHO"
      },
      "execution_count": 26,
      "outputs": []
    },
    {
      "cell_type": "code",
      "source": [
        "from torch import optim"
      ],
      "metadata": {
        "id": "ZTqxvR7A4hLz"
      },
      "execution_count": 27,
      "outputs": []
    },
    {
      "cell_type": "code",
      "source": [
        "opt = optim.Adam(model.parameters(), lr=1e-3)"
      ],
      "metadata": {
        "id": "0DVTGXHA4jOU"
      },
      "execution_count": 28,
      "outputs": []
    },
    {
      "cell_type": "code",
      "source": [
        "opt.step()\n",
        "opt.zero_grad()"
      ],
      "metadata": {
        "id": "_7uFpeLh4mek"
      },
      "execution_count": 29,
      "outputs": []
    },
    {
      "cell_type": "code",
      "source": [
        "nn.EmbeddingBag(3,EMBED_DIM)"
      ],
      "metadata": {
        "id": "P0y-23R-4q0E",
        "colab": {
          "base_uri": "https://localhost:8080/"
        },
        "outputId": "2043c950-afbe-480b-b249-e0e50ae73670"
      },
      "execution_count": 30,
      "outputs": [
        {
          "output_type": "execute_result",
          "data": {
            "text/plain": [
              "EmbeddingBag(3, 16, mode=mean)"
            ]
          },
          "metadata": {},
          "execution_count": 30
        }
      ]
    },
    {
      "cell_type": "markdown",
      "source": [
        "# Tabular\n"
      ],
      "metadata": {
        "id": "AmT6dyz-xd4A"
      }
    },
    {
      "cell_type": "code",
      "source": [
        "from fastai import tabular"
      ],
      "metadata": {
        "id": "a6UrMrjKxOdS"
      },
      "execution_count": 31,
      "outputs": []
    },
    {
      "cell_type": "code",
      "source": [
        ""
      ],
      "metadata": {
        "id": "rR5ONz4KxcsZ"
      },
      "execution_count": null,
      "outputs": []
    }
  ]
}