{
  "nbformat": 4,
  "nbformat_minor": 0,
  "metadata": {
    "colab": {
      "provenance": [],
      "authorship_tag": "ABX9TyNgkCYtysLEDz1PYS4vvTQl",
      "include_colab_link": true
    },
    "kernelspec": {
      "name": "python3",
      "display_name": "Python 3"
    },
    "language_info": {
      "name": "python"
    },
    "accelerator": "GPU",
    "gpuClass": "standard"
  },
  "cells": [
    {
      "cell_type": "markdown",
      "metadata": {
        "id": "view-in-github",
        "colab_type": "text"
      },
      "source": [
        "<a href=\"https://colab.research.google.com/github/SamuelMiller413/Deep-Learning-Course/blob/main/DL11_CNNs_Demo.ipynb\" target=\"_parent\"><img src=\"https://colab.research.google.com/assets/colab-badge.svg\" alt=\"Open In Colab\"/></a>"
      ]
    },
    {
      "cell_type": "code",
      "execution_count": null,
      "metadata": {
        "id": "hUpvAP3moCBh"
      },
      "outputs": [],
      "source": [
        "%%capture\n",
        "!pip install -Uqq fastai\n",
        "!apt-get install tree"
      ]
    },
    {
      "cell_type": "code",
      "source": [
        "import torch\n",
        "from torch import nn, optim\n",
        "from torch.nn import functional as F\n",
        "from fastai.vision.all import *\n",
        "from fastai import *\n",
        "from torchvision import transforms\n",
        "import pandas as pd"
      ],
      "metadata": {
        "id": "kv808kg1oZJH"
      },
      "execution_count": null,
      "outputs": []
    },
    {
      "cell_type": "code",
      "source": [
        "path = untar_data(URLs.MNIST)"
      ],
      "metadata": {
        "colab": {
          "base_uri": "https://localhost:8080/",
          "height": 37
        },
        "id": "Un8-Cv8Cobyv",
        "outputId": "f41505ab-6d4f-4945-ecba-aadf3ec9dda2"
      },
      "execution_count": null,
      "outputs": [
        {
          "output_type": "display_data",
          "data": {
            "text/plain": [
              "<IPython.core.display.HTML object>"
            ],
            "text/html": [
              "\n",
              "<style>\n",
              "    /* Turns off some styling */\n",
              "    progress {\n",
              "        /* gets rid of default border in Firefox and Opera. */\n",
              "        border: none;\n",
              "        /* Needs to be in here for Safari polyfill so background images work as expected. */\n",
              "        background-size: auto;\n",
              "    }\n",
              "    progress:not([value]), progress:not([value])::-webkit-progress-bar {\n",
              "        background: repeating-linear-gradient(45deg, #7e7e7e, #7e7e7e 10px, #5c5c5c 10px, #5c5c5c 20px);\n",
              "    }\n",
              "    .progress-bar-interrupted, .progress-bar-interrupted::-webkit-progress-bar {\n",
              "        background: #F44336;\n",
              "    }\n",
              "</style>\n"
            ]
          },
          "metadata": {}
        },
        {
          "output_type": "display_data",
          "data": {
            "text/plain": [
              "<IPython.core.display.HTML object>"
            ],
            "text/html": [
              "\n",
              "    <div>\n",
              "      <progress value='15687680' class='' max='15683414' style='width:300px; height:20px; vertical-align: middle;'></progress>\n",
              "      100.03% [15687680/15683414 00:02&lt;00:00]\n",
              "    </div>\n",
              "    "
            ]
          },
          "metadata": {}
        }
      ]
    },
    {
      "cell_type": "code",
      "source": [
        "print('First 2 levels of the data directory... \\n')\n",
        "!tree -L 2 {str(path)}\n",
        "# print('\\nLooking at the first 10 files in the training/0 directory...\\n')\n",
        "!ls {str(path/'training/0')} | head -n 10"
      ],
      "metadata": {
        "colab": {
          "base_uri": "https://localhost:8080/"
        },
        "id": "g6-maZ0forQg",
        "outputId": "1fab24b3-3b0f-4729-9e0c-9d69099ee686"
      },
      "execution_count": null,
      "outputs": [
        {
          "output_type": "stream",
          "name": "stdout",
          "text": [
            "First 2 levels of the data directory... \n",
            "\n",
            "/root/.fastai/data/mnist_png\n",
            "├── testing\n",
            "│   ├── 0\n",
            "│   ├── 1\n",
            "│   ├── 2\n",
            "│   ├── 3\n",
            "│   ├── 4\n",
            "│   ├── 5\n",
            "│   ├── 6\n",
            "│   ├── 7\n",
            "│   ├── 8\n",
            "│   └── 9\n",
            "└── training\n",
            "    ├── 0\n",
            "    ├── 1\n",
            "    ├── 2\n",
            "    ├── 3\n",
            "    ├── 4\n",
            "    ├── 5\n",
            "    ├── 6\n",
            "    ├── 7\n",
            "    ├── 8\n",
            "    └── 9\n",
            "\n",
            "22 directories, 0 files\n",
            "10005.png\n",
            "1000.png\n",
            "10010.png\n",
            "10022.png\n",
            "10025.png\n",
            "10026.png\n",
            "10045.png\n",
            "10069.png\n",
            "10071.png\n",
            "10080.png\n"
          ]
        }
      ]
    },
    {
      "cell_type": "code",
      "source": [
        "dls = ImageDataLoaders.from_folder(path, 'training', 'testing')"
      ],
      "metadata": {
        "id": "hSgkXz4touLR"
      },
      "execution_count": null,
      "outputs": []
    },
    {
      "cell_type": "code",
      "source": [
        "dls.show_batch()"
      ],
      "metadata": {
        "colab": {
          "base_uri": "https://localhost:8080/",
          "height": 536
        },
        "id": "KVPajd5Go4YE",
        "outputId": "2824858e-52db-4073-d9da-60353eb870d6"
      },
      "execution_count": null,
      "outputs": [
        {
          "output_type": "display_data",
          "data": {
            "text/plain": [
              "<Figure size 648x648 with 9 Axes>"
            ],
            "image/png": "[encoded data removed]"
          },
          "metadata": {
            "needs_background": "light"
          }
        }
      ]
    },
    {
      "cell_type": "code",
      "source": [
        "x_b, y_b = dls.one_batch()\n",
        "\n",
        "x_b.max(), x_b.min(), x_b.shape, y_b"
      ],
      "metadata": {
        "colab": {
          "base_uri": "https://localhost:8080/"
        },
        "id": "yTxWs-Ueo8v8",
        "outputId": "52bfca92-ade8-419d-dd77-b6147b2bddf2"
      },
      "execution_count": null,
      "outputs": [
        {
          "output_type": "execute_result",
          "data": {
            "text/plain": [
              "(TensorImage(1., device='cuda:0'),\n",
              " TensorImage(0., device='cuda:0'),\n",
              " torch.Size([64, 3, 28, 28]),\n",
              " TensorCategory([9, 0, 9, 5, 8, 6, 3, 4, 4, 7, 9, 0, 3, 6, 5, 8, 9, 7, 4, 3, 0,\n",
              "                 7, 9, 0, 7, 4, 1, 3, 0, 5, 1, 7, 1, 7, 5, 7, 7, 2, 5, 6, 1, 4,\n",
              "                 2, 2, 6, 1, 9, 1, 2, 0, 0, 0, 0, 6, 3, 2, 1, 4, 0, 2, 3, 3, 6,\n",
              "                 4], device='cuda:0'))"
            ]
          },
          "metadata": {},
          "execution_count": 7
        }
      ]
    },
    {
      "cell_type": "code",
      "source": [
        "def conv_block(in_channels, out_channels, kernel_size=3, padding=1, stride=1, dropout=0.2, *args, **kwargs):\n",
        "    \"\"\"\n",
        "    Returns a sequential module of a conv block that we want to repeat.\n",
        "    \"\"\"\n",
        "    return nn.Sequential(\n",
        "        nn.Conv2d(in_channels=in_channels, out_channels=out_channels, kernel_size=kernel_size, stride=stride, padding=padding, **kwargs),\n",
        "        nn.PReLU(),\n",
        "        nn.BatchNorm2d(out_channels),\n",
        "        nn.Dropout2d(dropout)\n",
        "    )"
      ],
      "metadata": {
        "id": "Rr6ME2KrpH3K"
      },
      "execution_count": null,
      "outputs": []
    },
    {
      "cell_type": "code",
      "source": [
        "# Build our model\n",
        "model = nn.Sequential(\n",
        "    conv_block(3, 32), # 3x28x28 --> 32x28x28\n",
        "    conv_block(32, 64), # 32x28x28 --> 64x28x28\n",
        "    conv_block(64, 64, stride=2), # 64x28x28 --> 64x14x14\n",
        "    conv_block(64, 128), # 64x14x14 --> 128x14x14\n",
        "    conv_block(128, 128, stride=2), # 128x14x14 --> 128x7x7\n",
        "    nn.AdaptiveMaxPool2d(1), # 128x7x7 --> 128\n",
        "    nn.Flatten(), # 1x1x128 --> 128\n",
        "    nn.Linear(128, 10) # 128 features --> 10 outputs\n",
        ")\n",
        "\n",
        "# Display our model\n",
        "model"
      ],
      "metadata": {
        "colab": {
          "base_uri": "https://localhost:8080/"
        },
        "id": "AS3Dj7muX06s",
        "outputId": "b99608df-73db-453a-a1eb-df5140328971"
      },
      "execution_count": null,
      "outputs": [
        {
          "output_type": "execute_result",
          "data": {
            "text/plain": [
              "Sequential(\n",
              "  (0): Sequential(\n",
              "    (0): Conv2d(3, 32, kernel_size=(3, 3), stride=(1, 1), padding=(1, 1))\n",
              "    (1): PReLU(num_parameters=1)\n",
              "    (2): BatchNorm2d(32, eps=1e-05, momentum=0.1, affine=True, track_running_stats=True)\n",
              "    (3): Dropout2d(p=0.2, inplace=False)\n",
              "  )\n",
              "  (1): Sequential(\n",
              "    (0): Conv2d(32, 64, kernel_size=(3, 3), stride=(1, 1), padding=(1, 1))\n",
              "    (1): PReLU(num_parameters=1)\n",
              "    (2): BatchNorm2d(64, eps=1e-05, momentum=0.1, affine=True, track_running_stats=True)\n",
              "    (3): Dropout2d(p=0.2, inplace=False)\n",
              "  )\n",
              "  (2): Sequential(\n",
              "    (0): Conv2d(64, 64, kernel_size=(3, 3), stride=(2, 2), padding=(1, 1))\n",
              "    (1): PReLU(num_parameters=1)\n",
              "    (2): BatchNorm2d(64, eps=1e-05, momentum=0.1, affine=True, track_running_stats=True)\n",
              "    (3): Dropout2d(p=0.2, inplace=False)\n",
              "  )\n",
              "  (3): Sequential(\n",
              "    (0): Conv2d(64, 128, kernel_size=(3, 3), stride=(1, 1), padding=(1, 1))\n",
              "    (1): PReLU(num_parameters=1)\n",
              "    (2): BatchNorm2d(128, eps=1e-05, momentum=0.1, affine=True, track_running_stats=True)\n",
              "    (3): Dropout2d(p=0.2, inplace=False)\n",
              "  )\n",
              "  (4): Sequential(\n",
              "    (0): Conv2d(128, 128, kernel_size=(3, 3), stride=(2, 2), padding=(1, 1))\n",
              "    (1): PReLU(num_parameters=1)\n",
              "    (2): BatchNorm2d(128, eps=1e-05, momentum=0.1, affine=True, track_running_stats=True)\n",
              "    (3): Dropout2d(p=0.2, inplace=False)\n",
              "  )\n",
              "  (5): AdaptiveMaxPool2d(output_size=1)\n",
              "  (6): Flatten(start_dim=1, end_dim=-1)\n",
              "  (7): Linear(in_features=128, out_features=10, bias=True)\n",
              ")"
            ]
          },
          "metadata": {},
          "execution_count": 9
        }
      ]
    },
    {
      "cell_type": "code",
      "source": [
        "cbs = [\n",
        "    EarlyStoppingCallback()\n",
        "]\n",
        "\n",
        "mets = [\n",
        "    metrics.accuracy,\n",
        "    metrics.error_rate\n",
        "]\n",
        "\n",
        "loss = CrossEntropyLossFlat()"
      ],
      "metadata": {
        "id": "CPHc1M9hYjUp"
      },
      "execution_count": null,
      "outputs": []
    },
    {
      "cell_type": "code",
      "source": [
        "learn = Learner(dls, model, loss, metrics=mets, cbs=cbs)"
      ],
      "metadata": {
        "id": "QShD9ifcapsf"
      },
      "execution_count": null,
      "outputs": []
    },
    {
      "cell_type": "code",
      "source": [
        "LR = 1e-3\n",
        "learn.fit_one_cycle(2, LR)"
      ],
      "metadata": {
        "colab": {
          "base_uri": "https://localhost:8080/",
          "height": 112
        },
        "id": "dNjopQSoa2iX",
        "outputId": "27e428e1-de44-4150-b3f8-a30835806ef9"
      },
      "execution_count": null,
      "outputs": [
        {
          "output_type": "display_data",
          "data": {
            "text/plain": [
              "<IPython.core.display.HTML object>"
            ],
            "text/html": [
              "\n",
              "<style>\n",
              "    /* Turns off some styling */\n",
              "    progress {\n",
              "        /* gets rid of default border in Firefox and Opera. */\n",
              "        border: none;\n",
              "        /* Needs to be in here for Safari polyfill so background images work as expected. */\n",
              "        background-size: auto;\n",
              "    }\n",
              "    progress:not([value]), progress:not([value])::-webkit-progress-bar {\n",
              "        background: repeating-linear-gradient(45deg, #7e7e7e, #7e7e7e 10px, #5c5c5c 10px, #5c5c5c 20px);\n",
              "    }\n",
              "    .progress-bar-interrupted, .progress-bar-interrupted::-webkit-progress-bar {\n",
              "        background: #F44336;\n",
              "    }\n",
              "</style>\n"
            ]
          },
          "metadata": {}
        },
        {
          "output_type": "display_data",
          "data": {
            "text/plain": [
              "<IPython.core.display.HTML object>"
            ],
            "text/html": [
              "<table border=\"1\" class=\"dataframe\">\n",
              "  <thead>\n",
              "    <tr style=\"text-align: left;\">\n",
              "      <th>epoch</th>\n",
              "      <th>train_loss</th>\n",
              "      <th>valid_loss</th>\n",
              "      <th>accuracy</th>\n",
              "      <th>error_rate</th>\n",
              "      <th>time</th>\n",
              "    </tr>\n",
              "  </thead>\n",
              "  <tbody>\n",
              "    <tr>\n",
              "      <td>0</td>\n",
              "      <td>0.128293</td>\n",
              "      <td>0.046193</td>\n",
              "      <td>0.985400</td>\n",
              "      <td>0.014600</td>\n",
              "      <td>01:41</td>\n",
              "    </tr>\n",
              "    <tr>\n",
              "      <td>1</td>\n",
              "      <td>0.058892</td>\n",
              "      <td>0.026236</td>\n",
              "      <td>0.991900</td>\n",
              "      <td>0.008100</td>\n",
              "      <td>01:34</td>\n",
              "    </tr>\n",
              "  </tbody>\n",
              "</table>"
            ]
          },
          "metadata": {}
        }
      ]
    },
    {
      "cell_type": "code",
      "source": [
        "learn.recorder.plot_sched()"
      ],
      "metadata": {
        "colab": {
          "base_uri": "https://localhost:8080/",
          "height": 265
        },
        "id": "kk2BncYDa7j4",
        "outputId": "d0c0bb61-c5d7-4a92-af40-22103fa0e2dc"
      },
      "execution_count": null,
      "outputs": [
        {
          "output_type": "display_data",
          "data": {
            "text/plain": [
              "<Figure size 864x288 with 2 Axes>"
            ],
            "image/png": "[encoded data removed]"
          },
          "metadata": {
            "needs_background": "light"
          }
        }
      ]
    },
    {
      "cell_type": "code",
      "source": [
        "def visualize_filters(layer, batch, batch_idx):\n",
        "    with hook_output(model[layer][0]) as hook:\n",
        "        # Pass one batch through the model, outputs will be stored in hook.stored\n",
        "        with torch.no_grad():\n",
        "            _ = learn.model(batch)\n",
        "            # Store the outputs\n",
        "            outputs = hook.stored\n",
        "\n",
        "    # Pick an index in the batch\n",
        "    n_filters = outputs.shape[1]\n",
        "    output_size = outputs.shape[2]\n",
        "    # Pick 9 random filters to visualize\n",
        "    sampled_filters = np.random.choice(range(n_filters), 9)\n",
        "\n",
        "    # Show the outputs for our 9 randomly sampled filters\n",
        "    fig = plt.figure(figsize=(10, 10))\n",
        "    for i, fidx in enumerate(sampled_filters):\n",
        "        ax = fig.add_subplot(3, 3, 1+i)\n",
        "        if i == 0: # Plot the original image in the upper left\n",
        "            show_image(batch[batch_idx], title='Original', ax=ax)\n",
        "            # plt.close()\n",
        "        else: # Plot activation maps of the randomly sampled filters\n",
        "            ax.matshow(\n",
        "                outputs[batch_idx, fidx].squeeze().cpu().numpy(), \n",
        "                cmap='Greys_r'\n",
        "            )\n",
        "        # Get rid of ticks & labels\n",
        "        ax.set_xticklabels([])\n",
        "        ax.set_xticks([])\n",
        "        ax.set_yticklabels([])\n",
        "        ax.set_yticks([])\n",
        "    fig.tight_layout()\n",
        "    plt.close()\n",
        "    return fig"
      ],
      "metadata": {
        "id": "UqeYrbfidOKu"
      },
      "execution_count": null,
      "outputs": []
    },
    {
      "cell_type": "code",
      "source": [
        "visualize_filters(0, x_b, 2)"
      ],
      "metadata": {
        "colab": {
          "base_uri": "https://localhost:8080/",
          "height": 729
        },
        "id": "MoEwrT-_4gwZ",
        "outputId": "1f133db2-f758-4ac5-957e-e0b816d7360a"
      },
      "execution_count": null,
      "outputs": [
        {
          "output_type": "execute_result",
          "data": {
            "text/plain": [
              "<Figure size 720x720 with 9 Axes>"
            ],
            "image/png": "[encoded data removed]"
          },
          "metadata": {},
          "execution_count": 16
        }
      ]
    },
    {
      "cell_type": "code",
      "source": [
        "visualize_filters(2, x_b, 2)"
      ],
      "metadata": {
        "colab": {
          "base_uri": "https://localhost:8080/",
          "height": 729
        },
        "id": "OTkWp-gU4jNL",
        "outputId": "e19217cd-0753-4f30-9a68-50bfcf8018f9"
      },
      "execution_count": null,
      "outputs": [
        {
          "output_type": "execute_result",
          "data": {
            "text/plain": [
              "<Figure size 720x720 with 9 Axes>"
            ],
            "image/png": "[encoded data removed]"
          },
          "metadata": {},
          "execution_count": 22
        }
      ]
    },
    {
      "cell_type": "code",
      "source": [
        "visualize_filters(4, x_b, 2)"
      ],
      "metadata": {
        "colab": {
          "base_uri": "https://localhost:8080/",
          "height": 729
        },
        "id": "BFKLVvqv4ztI",
        "outputId": "85165004-8db8-4616-e2f3-0a3780b12ef5"
      },
      "execution_count": null,
      "outputs": [
        {
          "output_type": "execute_result",
          "data": {
            "text/plain": [
              "<Figure size 720x720 with 9 Axes>"
            ],
            "image/png": "[encoded data removed]"
          },
          "metadata": {},
          "execution_count": 23
        }
      ]
    },
    {
      "cell_type": "code",
      "source": [],
      "metadata": {
        "id": "mSUOUEJ05Xfo"
      },
      "execution_count": null,
      "outputs": []
    }
  ]
}